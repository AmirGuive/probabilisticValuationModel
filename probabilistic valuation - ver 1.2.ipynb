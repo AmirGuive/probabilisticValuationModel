{
 "cells": [
  {
   "cell_type": "code",
   "execution_count": 1,
   "metadata": {},
   "outputs": [],
   "source": [
    "import pandas as pd\n",
    "import numpy as np\n",
    "import re\n",
    "import datetime\n",
    "import matplotlib.pyplot as plt\n",
    "import yfinance as yf\n",
    "import math\n",
    "import seaborn as sns\n",
    "from matplotlib import rc\n",
    "import matplotlib.ticker as ticker\n",
    "from dataclasses import dataclass\n",
    "from scipy.stats import norm\n",
    "from scipy import stats\n",
    "import pypfopt as ppo\n",
    "\n",
    "%matplotlib inline"
   ]
  },
  {
   "cell_type": "markdown",
   "metadata": {},
   "source": [
    "# Setting the Context\n",
    "## Probabilistic DCF valuation\n",
    "\n",
    "To calculate the Free Cash Flow to Firm we use the below equation:\n",
    "\n",
    "<img src=\"https://latex.codecogs.com/gif.download?%5Cinline%20FCFF%20%5C%3B%20%3D%20%5C%3B%20EBIT%20*%20%281-%20Effective%20Tax%29%20%5C%3B+%5C%3B%20Dep.%5C%3B%20and%20%5C%3B%20Amort.%5C%3B%20-%20%5C%3BChange%5C%3Bin%5C%3BNet%5C%3BWorking%5C%3BCapital-%5C%3BCAPEX\">\n",
    "\n",
    "To forecast the FCFF we need to forecast each element in the above equiation, and for do it automatically we need to introduce proxies for each item:\n",
    "\n",
    "<img src=\"https://latex.codecogs.com/gif.latex?Reinvestment\\;Rate&space;=&space;\\;&space;\\frac{CapEx\\;-\\;&space;Dep.\\;and\\;Amort.\\;&plus;\\;Changes&space;\\;in\\;WC}{EBIT\\;&space;\\times\\;&space;(1\\;&space;-\\;&space;Eff.\\;&space;Tax\\;&space;Rate)}\" title=\"Reinvestment\\;Rate = \\; \\frac{CapEx\\;-\\; Dep.\\;and\\;Amort.\\;+\\;Changes \\;in\\;WC}{EBIT\\; \\times\\; (1\\; -\\; Eff.\\; Tax\\; Rate)}\" />\n",
    "\n",
    "\n",
    "<img src=\"https://latex.codecogs.com/gif.latex?Return\\;on\\;Capital&space;=&space;\\frac{EBIT\\;&space;\\times\\;&space;(1\\;&space;-\\;&space;Eff.\\;&space;Tax\\;&space;Rate)}{Total\\;Debt\\;&plus;\\;Total\\;Equity}\" title=\"Return\\;on\\;Capital = \\frac{EBIT\\; \\times\\; (1\\; -\\; Eff.\\; Tax\\; Rate)}{Total\\;Debt\\;+\\;Total\\;Equity}\" />\n",
    "\n",
    "and the internal growth rate will be : \n",
    "\n",
    "<img src=\"https://latex.codecogs.com/gif.latex?g\\;=\\;&space;Reinvestment\\;Rate\\;&space;\\times\\;&space;ROC\" title=\"g\\;=\\; Reinvestment\\;Rate\\; \\times\\; ROC\" />\n",
    "\n",
    "first we need to extract the historical data for each proxy and we will assume that the future rates will oscillate around the historical mean and standard deviation. \n",
    "\n",
    "\n",
    "### Resources\n",
    "https://www.youtube.com/watch?v=8gYT3Xgs6NE \\\n",
    "https://pages.stern.nyu.edu/~adamodar/ \\\n",
    "https://papers.ssrn.com/sol3/papers.cfm?abstract_id=3237778\n"
   ]
  },
  {
   "cell_type": "markdown",
   "metadata": {},
   "source": [
    "# Loading Data"
   ]
  },
  {
   "cell_type": "code",
   "execution_count": 2,
   "metadata": {
    "scrolled": false
   },
   "outputs": [
    {
     "name": "stdout",
     "output_type": "stream",
     "text": [
      "WARNING *** file size (273418) not 512 + multiple of sector size (512)\n",
      "WARNING *** file size (273418) not 512 + multiple of sector size (512)\n",
      "WARNING *** file size (273418) not 512 + multiple of sector size (512)\n",
      "WARNING *** file size (273418) not 512 + multiple of sector size (512)\n"
     ]
    }
   ],
   "source": [
    "path = 'C:\\\\Users\\\\nemat\\\\Desktop\\\\Master Folder\\\\Buffet in the box contd\\\\auto_examples_jupyter\\\\Nomad Foods Limited NYSE NOMD Financials.xls'\n",
    "tickers = ['NOMD']\n",
    "WACC = 0.065894\n",
    "\n",
    "inc_df = pd.read_excel(path,\n",
    "                      sheet_name='Income Statement', skiprows=14, index_col=0)\n",
    "bs_df = pd.read_excel(path,\n",
    "                         sheet_name='Balance Sheet', skiprows=14,index_col=0)\n",
    "cf_df = pd.read_excel(path,\n",
    "                         sheet_name='Cash Flow', skiprows=14,index_col=0)\n",
    "Mult_df = pd.read_excel(path,\n",
    "                         sheet_name='Multiples', skiprows=13,index_col=0)\n"
   ]
  },
  {
   "cell_type": "markdown",
   "metadata": {},
   "source": [
    "# Data cleaning and calculation functions "
   ]
  },
  {
   "cell_type": "code",
   "execution_count": 3,
   "metadata": {},
   "outputs": [],
   "source": [
    "def StatementParser(df):\n",
    "    date={}\n",
    "    for i in range(len(df.columns)):\n",
    "        if type(df.columns[i]) is str:\n",
    "            match = re.search(r'\\w{3}-\\d{2}-\\d{4}', str(df.columns[i]))\n",
    "            date[str(df.columns[i])] = datetime.datetime.strptime(match.group(), '%b-%d-%Y').date()\n",
    "        else:\n",
    "            match = re.search(r'\\d{4}-\\d{2}-\\d{2}', str(df.columns[i]))\n",
    "            date[str(df.columns[i])] = datetime.datetime.strptime(match.group(), '%Y-%m-%d').date()\n",
    "    df.rename(columns = date, inplace = True)\n",
    "    df.replace(to_replace='-', value= 0 , inplace=True)\n",
    "    df.dropna(how = 'all', inplace = True)\n",
    "    df.drop('Currency', inplace = True)\n",
    "    \n",
    "    df = df.T\n",
    "    df['Date'] = df.index\n",
    "    df.set_index(df['Date'], inplace = True)\n",
    "    df.drop('Date', axis=1, inplace = True)\n",
    "    \n",
    "    col={}\n",
    "    for i in range(len(df.columns)):\n",
    "        col[str(df.columns[i])] = str(str(df.columns[i]).lstrip())\n",
    "    df.rename(columns = col, inplace = True)\n",
    "    \n",
    "    if df.index[-1].month != df.index[0].month:\n",
    "        df.drop(df.tail(1).index , inplace=True)\n",
    "    else:\n",
    "        pass\n",
    "\n",
    "    return df\n",
    "\n",
    "def multiplesParser(df):\n",
    "    a = df.loc[df.index == 'TEV/NTM EBIT'].T\n",
    "    b = df.loc[df.index == 'TEV/LTM EBIT'].T\n",
    "    c = df.loc[df.index == 'TEV/NTM EBITDA'].T\n",
    "    d = df.loc[df.index == 'TEV/LTM EBITDA'].T\n",
    "    mult = a.join(b.join(c.join(d))).T\n",
    "    mult.drop(columns=mult.columns[0], inplace = True)\n",
    "    mult.replace(to_replace = '-', value = np.nan, inplace = True)\n",
    "    mult.replace(to_replace = 'NM', value = np.nan, inplace = True)    \n",
    "    mult = mult.apply(pd.to_numeric)\n",
    "    mult = mult.T\n",
    "    return mult\n",
    "    \n",
    "def load_info(tickers):\n",
    "    inf = [[0 for i in range(len(tickers))] for j in range(8)]\n",
    "    for i in range(len(tickers)):\n",
    "        info = yf.Ticker(tickers[i]).info\n",
    "        inf[0][i] = info['longName']\n",
    "        inf[1][i] = info['sector']\n",
    "        inf[2][i] = info['marketCap']\n",
    "        inf[3][i] = info['beta']\n",
    "        inf[4][i] = info['returnOnAssets']\n",
    "        inf[5][i] = info['returnOnEquity']\n",
    "        inf[6][i] = info['enterpriseToRevenue']\n",
    "        inf[7][i] = info['enterpriseToEbitda']\n",
    "    inf_df = pd.DataFrame(data = [inf[0], inf[1], np.array(inf[2])/1000000000, inf[3], inf[4], inf[5], inf[6], inf[7]],\n",
    "                         index = ['Name', 'Sector', 'Market Cap $B', 'Beta', 'ROA', 'ROE', 'EV/Revenue', 'EV/EBITDA'],\n",
    "                         columns = tickers).T\n",
    "    return inf, inf_df"
   ]
  },
  {
   "cell_type": "markdown",
   "metadata": {},
   "source": [
    "## Loading Multiples"
   ]
  },
  {
   "cell_type": "code",
   "execution_count": 4,
   "metadata": {},
   "outputs": [],
   "source": [
    "multiples = multiplesParser(Mult_df)"
   ]
  },
  {
   "cell_type": "code",
   "execution_count": 5,
   "metadata": {},
   "outputs": [],
   "source": [
    "IS = StatementParser(inc_df)"
   ]
  },
  {
   "cell_type": "code",
   "execution_count": 6,
   "metadata": {},
   "outputs": [],
   "source": [
    "BS = StatementParser(bs_df)"
   ]
  },
  {
   "cell_type": "code",
   "execution_count": 7,
   "metadata": {},
   "outputs": [],
   "source": [
    "CF = StatementParser(cf_df)"
   ]
  },
  {
   "cell_type": "code",
   "execution_count": 8,
   "metadata": {},
   "outputs": [
    {
     "data": {
      "text/html": [
       "<div>\n",
       "<style scoped>\n",
       "    .dataframe tbody tr th:only-of-type {\n",
       "        vertical-align: middle;\n",
       "    }\n",
       "\n",
       "    .dataframe tbody tr th {\n",
       "        vertical-align: top;\n",
       "    }\n",
       "\n",
       "    .dataframe thead th {\n",
       "        text-align: right;\n",
       "    }\n",
       "</style>\n",
       "<table border=\"1\" class=\"dataframe\">\n",
       "  <thead>\n",
       "    <tr style=\"text-align: right;\">\n",
       "      <th></th>\n",
       "      <th>Name</th>\n",
       "      <th>Sector</th>\n",
       "      <th>Market Cap $B</th>\n",
       "      <th>Beta</th>\n",
       "      <th>ROA</th>\n",
       "      <th>ROE</th>\n",
       "      <th>EV/Revenue</th>\n",
       "      <th>EV/EBITDA</th>\n",
       "    </tr>\n",
       "  </thead>\n",
       "  <tbody>\n",
       "    <tr>\n",
       "      <th>NOMD</th>\n",
       "      <td>Nomad Foods Limited</td>\n",
       "      <td>Consumer Defensive</td>\n",
       "      <td>4.290804</td>\n",
       "      <td>0.590129</td>\n",
       "      <td>0.04408</td>\n",
       "      <td>0.09318</td>\n",
       "      <td>2.542</td>\n",
       "      <td>14.159</td>\n",
       "    </tr>\n",
       "  </tbody>\n",
       "</table>\n",
       "</div>"
      ],
      "text/plain": [
       "                     Name              Sector Market Cap $B      Beta  \\\n",
       "NOMD  Nomad Foods Limited  Consumer Defensive      4.290804  0.590129   \n",
       "\n",
       "          ROA      ROE EV/Revenue EV/EBITDA  \n",
       "NOMD  0.04408  0.09318      2.542    14.159  "
      ]
     },
     "execution_count": 8,
     "metadata": {},
     "output_type": "execute_result"
    }
   ],
   "source": [
    "info, info_df = load_info(tickers)\n",
    "info_df"
   ]
  },
  {
   "cell_type": "code",
   "execution_count": 9,
   "metadata": {},
   "outputs": [
    {
     "name": "stdout",
     "output_type": "stream",
     "text": [
      "[*********************100%***********************]  1 of 1 completed\n"
     ]
    }
   ],
   "source": [
    "today = datetime.date.today().strftime('%Y-%m-%d')\n",
    "market_data = yf.download(tickers, start = '2000-01-01' , end = today, interval = '1d')"
   ]
  },
  {
   "cell_type": "markdown",
   "metadata": {},
   "source": [
    "# Looking at the Capital Structure"
   ]
  },
  {
   "cell_type": "code",
   "execution_count": 10,
   "metadata": {},
   "outputs": [
    {
     "data": {
      "image/png": "[encoded data removed]",
      "text/plain": [
       "<Figure size 576x288 with 1 Axes>"
      ]
     },
     "metadata": {
      "needs_background": "light"
     },
     "output_type": "display_data"
    }
   ],
   "source": [
    "plt.figure(figsize=(8,4))\n",
    "rc('font', weight = 'bold')\n",
    "bars2 = BS['Total Debt']\n",
    "bars1 = BS['Total Equity']\n",
    "\n",
    "bars = np.add(bars1, bars2).tolist()\n",
    "\n",
    "r = range(len(bars1))\n",
    " \n",
    "names = BS.index.year\n",
    "barWidth = 0.75\n",
    "\n",
    "plt.bar(r, bars1, color='orange', edgecolor='white', width=barWidth, label = 'Total Equity')\n",
    "plt.bar(r, bars2, bottom=bars1, color='green', edgecolor='white', width=barWidth, label = 'Total Debt')\n",
    "\n",
    "plt.xticks(r, names, fontweight='bold')\n",
    "plt.title(\"Capital Structure\")\n",
    "plt.legend()\n",
    "plt.show()"
   ]
  },
  {
   "cell_type": "code",
   "execution_count": 11,
   "metadata": {},
   "outputs": [
    {
     "data": {
      "image/png": "[encoded data removed]",
      "text/plain": [
       "<Figure size 576x288 with 1 Axes>"
      ]
     },
     "metadata": {
      "needs_background": "light"
     },
     "output_type": "display_data"
    }
   ],
   "source": [
    "plt.figure(figsize=(8,4))\n",
    "# Data\n",
    "# r = []\n",
    "raw_data = {'greenBars': BS['Total Debt'], 'orangeBars': BS['Total Equity']}\n",
    "df = pd.DataFrame(raw_data)\n",
    " \n",
    "# From raw value to percentage\n",
    "totals = [i+j for i,j in zip(df['greenBars'], df['orangeBars'])]\n",
    "greenBars = [i / j * 100 for i,j in zip(df['greenBars'], totals)]\n",
    "orangeBars = [i / j * 100 for i,j in zip(df['orangeBars'], totals)]\n",
    " \n",
    "# plot\n",
    "barWidth = 0.75\n",
    "# names = ()\n",
    "# Create orange Bars (Equity)\n",
    "plt.bar(r, orangeBars, color='orange', edgecolor='white', width=barWidth, label = 'Total Equity')\n",
    "# Create green Bars (Debt)\n",
    "plt.bar(r, greenBars, bottom=orangeBars, color='green', edgecolor='white', width=barWidth, label = 'Total Debt')\n",
    " \n",
    "# Custom x axis\n",
    "plt.xticks(r, names)\n",
    "plt.title('Capital Structure')\n",
    " \n",
    "# Show graphic\n",
    "plt.legend(loc = 'upper right')\n",
    "plt.show()\n"
   ]
  },
  {
   "cell_type": "markdown",
   "metadata": {},
   "source": [
    "# Calculating the Fundamentals"
   ]
  },
  {
   "cell_type": "code",
   "execution_count": 12,
   "metadata": {},
   "outputs": [],
   "source": [
    "revenue = IS['Revenue']\n",
    "Chg_WC = CF['Change in Net Working Capital']\n",
    "eff_tax = IS['Effective Tax Rate %'].replace('NM' , 0)\n",
    "capex = abs(CF['Capital Expenditure'])\n",
    "depreciation = CF['Depreciation & Amort., Total']\n",
    "EBIT = IS['EBIT']\n",
    "after_tax_EBIT = EBIT * (1 - eff_tax)\n",
    "Reinv_rate = (capex - depreciation + Chg_WC) / (EBIT * (1 - eff_tax))\n",
    "roc = (IS['EBIT'] * (1 - eff_tax)) / (BS['Total Debt'] + BS['Total Equity'])\n",
    "g = Reinv_rate * roc\n",
    "fundamentals = pd.DataFrame(data = [revenue, Chg_WC, eff_tax, capex, depreciation, EBIT, after_tax_EBIT,\n",
    "                                        Reinv_rate, roc, g],\n",
    "                                index= [ 'Revenue','Change in Working Capital',\n",
    "                                        'Effective Tax Rate', 'Capex', 'Depr. & Amort.', 'EBIT','EBIT (1-t)',\n",
    "                                        'Reinvestment Rate', 'ROC', 'g']).T\n",
    "\n",
    "Terminal_multiple = multiples['TEV/NTM EBIT'].mean()\n",
    "terminalChanges = 3 * multiples['TEV/NTM EBIT'].std()\n",
    "vwap_df = market_data[-252:]\n",
    "vwap = round(np.average(vwap_df['Adj Close'], weights=vwap_df['Volume']),2)"
   ]
  },
  {
   "cell_type": "code",
   "execution_count": 13,
   "metadata": {},
   "outputs": [
    {
     "data": {
      "text/html": [
       "<div>\n",
       "<style scoped>\n",
       "    .dataframe tbody tr th:only-of-type {\n",
       "        vertical-align: middle;\n",
       "    }\n",
       "\n",
       "    .dataframe tbody tr th {\n",
       "        vertical-align: top;\n",
       "    }\n",
       "\n",
       "    .dataframe thead th {\n",
       "        text-align: right;\n",
       "    }\n",
       "</style>\n",
       "<table border=\"1\" class=\"dataframe\">\n",
       "  <thead>\n",
       "    <tr style=\"text-align: right;\">\n",
       "      <th></th>\n",
       "      <th>Revenue</th>\n",
       "      <th>Change in Working Capital</th>\n",
       "      <th>Effective Tax Rate</th>\n",
       "      <th>Capex</th>\n",
       "      <th>Depr. &amp; Amort.</th>\n",
       "      <th>EBIT</th>\n",
       "      <th>EBIT (1-t)</th>\n",
       "      <th>Reinvestment Rate</th>\n",
       "      <th>ROC</th>\n",
       "      <th>g</th>\n",
       "    </tr>\n",
       "    <tr>\n",
       "      <th>Date</th>\n",
       "      <th></th>\n",
       "      <th></th>\n",
       "      <th></th>\n",
       "      <th></th>\n",
       "      <th></th>\n",
       "      <th></th>\n",
       "      <th></th>\n",
       "      <th></th>\n",
       "      <th></th>\n",
       "      <th></th>\n",
       "    </tr>\n",
       "  </thead>\n",
       "  <tbody>\n",
       "    <tr>\n",
       "      <th>2015-12-31</th>\n",
       "      <td>894.2</td>\n",
       "      <td>NaN</td>\n",
       "      <td>0.000000</td>\n",
       "      <td>19.3</td>\n",
       "      <td>20.8</td>\n",
       "      <td>127.5</td>\n",
       "      <td>127.500000</td>\n",
       "      <td>NaN</td>\n",
       "      <td>0.033429</td>\n",
       "      <td>NaN</td>\n",
       "    </tr>\n",
       "    <tr>\n",
       "      <th>2016-12-31</th>\n",
       "      <td>1927.7</td>\n",
       "      <td>-126.6</td>\n",
       "      <td>0.521052</td>\n",
       "      <td>38.0</td>\n",
       "      <td>51.1</td>\n",
       "      <td>268.5</td>\n",
       "      <td>128.597538</td>\n",
       "      <td>-1.086335</td>\n",
       "      <td>0.038320</td>\n",
       "      <td>-0.041628</td>\n",
       "    </tr>\n",
       "    <tr>\n",
       "      <th>2017-12-31</th>\n",
       "      <td>1956.6</td>\n",
       "      <td>39.5</td>\n",
       "      <td>0.189910</td>\n",
       "      <td>42.6</td>\n",
       "      <td>42.4</td>\n",
       "      <td>276.5</td>\n",
       "      <td>223.989885</td>\n",
       "      <td>0.177240</td>\n",
       "      <td>0.067622</td>\n",
       "      <td>0.011985</td>\n",
       "    </tr>\n",
       "    <tr>\n",
       "      <th>2018-12-31</th>\n",
       "      <td>2172.8</td>\n",
       "      <td>-40.7</td>\n",
       "      <td>0.249229</td>\n",
       "      <td>41.6</td>\n",
       "      <td>46.3</td>\n",
       "      <td>302.7</td>\n",
       "      <td>227.258382</td>\n",
       "      <td>-0.199773</td>\n",
       "      <td>0.058894</td>\n",
       "      <td>-0.011765</td>\n",
       "    </tr>\n",
       "    <tr>\n",
       "      <th>2019-12-31</th>\n",
       "      <td>2324.3</td>\n",
       "      <td>-15.5</td>\n",
       "      <td>0.269614</td>\n",
       "      <td>47.3</td>\n",
       "      <td>63.6</td>\n",
       "      <td>334.2</td>\n",
       "      <td>244.095001</td>\n",
       "      <td>-0.130277</td>\n",
       "      <td>0.054655</td>\n",
       "      <td>-0.007120</td>\n",
       "    </tr>\n",
       "    <tr>\n",
       "      <th>2020-12-31</th>\n",
       "      <td>2515.9</td>\n",
       "      <td>-109.1</td>\n",
       "      <td>0.238240</td>\n",
       "      <td>58.7</td>\n",
       "      <td>63.2</td>\n",
       "      <td>381.9</td>\n",
       "      <td>290.916144</td>\n",
       "      <td>-0.390491</td>\n",
       "      <td>0.073001</td>\n",
       "      <td>-0.028506</td>\n",
       "    </tr>\n",
       "  </tbody>\n",
       "</table>\n",
       "</div>"
      ],
      "text/plain": [
       "            Revenue  Change in Working Capital  Effective Tax Rate  Capex  \\\n",
       "Date                                                                        \n",
       "2015-12-31    894.2                        NaN            0.000000   19.3   \n",
       "2016-12-31   1927.7                     -126.6            0.521052   38.0   \n",
       "2017-12-31   1956.6                       39.5            0.189910   42.6   \n",
       "2018-12-31   2172.8                      -40.7            0.249229   41.6   \n",
       "2019-12-31   2324.3                      -15.5            0.269614   47.3   \n",
       "2020-12-31   2515.9                     -109.1            0.238240   58.7   \n",
       "\n",
       "            Depr. & Amort.   EBIT  EBIT (1-t)  Reinvestment Rate       ROC  \\\n",
       "Date                                                                         \n",
       "2015-12-31            20.8  127.5  127.500000                NaN  0.033429   \n",
       "2016-12-31            51.1  268.5  128.597538          -1.086335  0.038320   \n",
       "2017-12-31            42.4  276.5  223.989885           0.177240  0.067622   \n",
       "2018-12-31            46.3  302.7  227.258382          -0.199773  0.058894   \n",
       "2019-12-31            63.6  334.2  244.095001          -0.130277  0.054655   \n",
       "2020-12-31            63.2  381.9  290.916144          -0.390491  0.073001   \n",
       "\n",
       "                   g  \n",
       "Date                  \n",
       "2015-12-31       NaN  \n",
       "2016-12-31 -0.041628  \n",
       "2017-12-31  0.011985  \n",
       "2018-12-31 -0.011765  \n",
       "2019-12-31 -0.007120  \n",
       "2020-12-31 -0.028506  "
      ]
     },
     "execution_count": 13,
     "metadata": {},
     "output_type": "execute_result"
    }
   ],
   "source": [
    "fundamentals"
   ]
  },
  {
   "cell_type": "code",
   "execution_count": 14,
   "metadata": {},
   "outputs": [
    {
     "data": {
      "text/plain": [
       "(13.621629080000002, 2.393940535295925)"
      ]
     },
     "execution_count": 14,
     "metadata": {},
     "output_type": "execute_result"
    }
   ],
   "source": [
    "Terminal_multiple, terminalChanges"
   ]
  },
  {
   "cell_type": "markdown",
   "metadata": {},
   "source": [
    "# Running the Simulation"
   ]
  },
  {
   "cell_type": "code",
   "execution_count": 15,
   "metadata": {},
   "outputs": [],
   "source": [
    "t_intervals = 10\n",
    "iterations = 1000000"
   ]
  },
  {
   "cell_type": "code",
   "execution_count": 16,
   "metadata": {},
   "outputs": [],
   "source": [
    "values = []\n",
    "for i in range(iterations):\n",
    "    Expected_g = np.random.normal(np.mean(fundamentals['g']), np.std(fundamentals['g']), size = t_intervals)\n",
    "    simWACC = np.random.normal(WACC, 0.01, size= t_intervals)\n",
    "    Reinvestment_rate = np.random.normal(np.mean(fundamentals['Reinvestment Rate']), np.std(fundamentals['Reinvestment Rate']), size = t_intervals)\n",
    "    tax = np.random.normal(np.mean(fundamentals['Effective Tax Rate']), np.std(fundamentals['Effective Tax Rate']), size = t_intervals)\n",
    "    change_in_working_capital = np.random.normal(np.mean(fundamentals['Change in Working Capital']), np.std(fundamentals['Change in Working Capital']), size = t_intervals)\n",
    "\n",
    "    TerMulSim = np.random.normal(Terminal_multiple, terminalChanges)\n",
    "\n",
    "    EBIT_E = []\n",
    "    a = EBIT[-1]\n",
    "    for i in range(t_intervals):\n",
    "        a *= (1 + Expected_g[i])\n",
    "        EBIT_E.append(a)\n",
    "\n",
    "    after_tax_EBIT = (EBIT_E * (1 - tax))\n",
    "\n",
    "    Capex_Dep = (after_tax_EBIT * Reinvestment_rate) - change_in_working_capital\n",
    "\n",
    "    FCFF = after_tax_EBIT - change_in_working_capital - Capex_Dep\n",
    "\n",
    "    discount_factor = []\n",
    "    for i in range(t_intervals):\n",
    "        if i == 0:\n",
    "            i = 1 + simWACC[i]\n",
    "            discount_factor.append(i)\n",
    "        else:\n",
    "            i = (1 + simWACC[i]) ** i\n",
    "            discount_factor.append(i)\n",
    "\n",
    "    PV = FCFF / discount_factor\n",
    "    terminalValue = (EBIT_E[-1] * TerMulSim)\n",
    "    PV_tV = terminalValue / ((1 + WACC) ** t_intervals)\n",
    "    equityValue = PV.sum() + PV_tV - BS['Net Debt'][-1]\n",
    "    sharesOutstanding = IS['Weighted Avg. Diluted Shares Out.'][-1]\n",
    "    v = equityValue / sharesOutstanding\n",
    "    values.append(v)\n",
    "\n"
   ]
  },
  {
   "cell_type": "code",
   "execution_count": 17,
   "metadata": {},
   "outputs": [
    {
     "data": {
      "text/plain": [
       "24.29"
      ]
     },
     "execution_count": 17,
     "metadata": {},
     "output_type": "execute_result"
    }
   ],
   "source": [
    "stock = round(market_data['Adj Close'][-1], 2)\n",
    "stock"
   ]
  },
  {
   "cell_type": "code",
   "execution_count": 18,
   "metadata": {},
   "outputs": [
    {
     "name": "stderr",
     "output_type": "stream",
     "text": [
      "<ipython-input-18-f9eed391a0c7>:8: UserWarning: FixedFormatter should only be used together with FixedLocator\n",
      "  sns.histplot(values, color='orange', label = 'Simulations').set_xticklabels(xlabels)\n"
     ]
    },
    {
     "data": {
      "image/png": "[encoded data removed]",
      "text/plain": [
       "<Figure size 576x576 with 1 Axes>"
      ]
     },
     "metadata": {},
     "output_type": "display_data"
    }
   ],
   "source": [
    "sns.set(rc={'figure.figsize':(8,8)})\n",
    "sns.set(font_scale = 1.25, font = 'Cambria')\n",
    "plt.axvline(x=stock, ymin=0,ymax=np.max(values), label = f'Current Price ${stock}', linewidth = 3, color = 'gray')\n",
    "plt.axvline(x=np.median(values), ymin=0,ymax=np.max(values), label = f'Median Value ${round(np.median(values),2)}',\n",
    "            linewidth = 3, color = 'purple')\n",
    "\n",
    "xlabels = ['{:,.2f}'.format(x) + '$' for x in sns.histplot(values).get_xticks()]\n",
    "sns.histplot(values, color='orange', label = 'Simulations').set_xticklabels(xlabels)\n",
    "plt.title(label = f\"Probabilistics valuation for {info[0][0]}\")\n",
    "plt.legend()\n",
    "plt.show()"
   ]
  },
  {
   "cell_type": "code",
   "execution_count": 19,
   "metadata": {},
   "outputs": [
    {
     "name": "stderr",
     "output_type": "stream",
     "text": [
      "<ipython-input-19-9ce9dff44003>:2: UserWarning: FixedFormatter should only be used together with FixedLocator\n",
      "  sns.ecdfplot(x=values, color = 'orange', label = 'Simulation CDF', linewidth = 4).set_xticklabels(xlabels)\n"
     ]
    },
    {
     "data": {
      "image/png": "[encoded data removed]",
      "text/plain": [
       "<Figure size 576x576 with 1 Axes>"
      ]
     },
     "metadata": {},
     "output_type": "display_data"
    }
   ],
   "source": [
    "xlabels = ['{:,.2f}'.format(x) + '$' for x in sns.ecdfplot(x=values).get_xticks()]\n",
    "sns.ecdfplot(x=values, color = 'orange', label = 'Simulation CDF', linewidth = 4).set_xticklabels(xlabels)\n",
    "plt.axvline(x=stock, ymin=0,ymax=np.max(values), label = f'Current Price ${stock}', linewidth = 3, color = 'gray')\n",
    "plt.axvline(x=np.median(values), ymin=0,ymax=np.max(values), label = f'Median Value ${round(np.median(values),2)}',\n",
    "            linewidth = 3, color = 'purple')\n",
    "plt.title(label = f\"Cumulative Distribution Function for {info[0][0]}\")\n",
    "\n",
    "plt.legend()\n",
    "plt.show()"
   ]
  },
  {
   "cell_type": "code",
   "execution_count": 20,
   "metadata": {},
   "outputs": [
    {
     "data": {
      "text/html": [
       "<div>\n",
       "<style scoped>\n",
       "    .dataframe tbody tr th:only-of-type {\n",
       "        vertical-align: middle;\n",
       "    }\n",
       "\n",
       "    .dataframe tbody tr th {\n",
       "        vertical-align: top;\n",
       "    }\n",
       "\n",
       "    .dataframe thead th {\n",
       "        text-align: right;\n",
       "    }\n",
       "</style>\n",
       "<table border=\"1\" class=\"dataframe\">\n",
       "  <thead>\n",
       "    <tr style=\"text-align: right;\">\n",
       "      <th></th>\n",
       "      <th>Values</th>\n",
       "    </tr>\n",
       "    <tr>\n",
       "      <th>Percentiles</th>\n",
       "      <th></th>\n",
       "    </tr>\n",
       "  </thead>\n",
       "  <tbody>\n",
       "    <tr>\n",
       "      <th>0%</th>\n",
       "      <td>5.066419</td>\n",
       "    </tr>\n",
       "    <tr>\n",
       "      <th>10%</th>\n",
       "      <td>14.486890</td>\n",
       "    </tr>\n",
       "    <tr>\n",
       "      <th>20%</th>\n",
       "      <td>15.704490</td>\n",
       "    </tr>\n",
       "    <tr>\n",
       "      <th>30%</th>\n",
       "      <td>16.601765</td>\n",
       "    </tr>\n",
       "    <tr>\n",
       "      <th>40%</th>\n",
       "      <td>17.375215</td>\n",
       "    </tr>\n",
       "    <tr>\n",
       "      <th>50%</th>\n",
       "      <td>18.106224</td>\n",
       "    </tr>\n",
       "    <tr>\n",
       "      <th>60%</th>\n",
       "      <td>18.847221</td>\n",
       "    </tr>\n",
       "    <tr>\n",
       "      <th>70%</th>\n",
       "      <td>19.649916</td>\n",
       "    </tr>\n",
       "    <tr>\n",
       "      <th>80%</th>\n",
       "      <td>20.599991</td>\n",
       "    </tr>\n",
       "    <tr>\n",
       "      <th>90%</th>\n",
       "      <td>21.934393</td>\n",
       "    </tr>\n",
       "    <tr>\n",
       "      <th>100%</th>\n",
       "      <td>35.239742</td>\n",
       "    </tr>\n",
       "  </tbody>\n",
       "</table>\n",
       "</div>"
      ],
      "text/plain": [
       "                Values\n",
       "Percentiles           \n",
       "0%            5.066419\n",
       "10%          14.486890\n",
       "20%          15.704490\n",
       "30%          16.601765\n",
       "40%          17.375215\n",
       "50%          18.106224\n",
       "60%          18.847221\n",
       "70%          19.649916\n",
       "80%          20.599991\n",
       "90%          21.934393\n",
       "100%         35.239742"
      ]
     },
     "execution_count": 20,
     "metadata": {},
     "output_type": "execute_result"
    }
   ],
   "source": [
    "Percentile_table = pd.DataFrame(data = [np.percentile(values, 0), np.percentile(values, 10), np.percentile(values, 20),\n",
    "                                       np.percentile(values, 30), np.percentile(values, 40), np.percentile(values, 50),\n",
    "                                       np.percentile(values, 60), np.percentile(values, 70), np.percentile(values, 80),\n",
    "                                       np.percentile(values, 90), np.percentile(values, 100)],\n",
    "                               index = ['0%', '10%', '20%', '30%', '40%', '50%', '60%', '70%', '80%', '90%', '100%'],\n",
    "                               columns = ['Values'])\n",
    "\n",
    "Percentile_table.index.name = 'Percentiles'\n",
    "Percentile_table"
   ]
  },
  {
   "cell_type": "code",
   "execution_count": 21,
   "metadata": {},
   "outputs": [
    {
     "data": {
      "text/html": [
       "<div>\n",
       "<style scoped>\n",
       "    .dataframe tbody tr th:only-of-type {\n",
       "        vertical-align: middle;\n",
       "    }\n",
       "\n",
       "    .dataframe tbody tr th {\n",
       "        vertical-align: top;\n",
       "    }\n",
       "\n",
       "    .dataframe thead th {\n",
       "        text-align: right;\n",
       "    }\n",
       "</style>\n",
       "<table border=\"1\" class=\"dataframe\">\n",
       "  <thead>\n",
       "    <tr style=\"text-align: right;\">\n",
       "      <th></th>\n",
       "      <th>time</th>\n",
       "      <th>Worst Case</th>\n",
       "      <th>Base Case</th>\n",
       "      <th>Best Case</th>\n",
       "      <th>Market Price</th>\n",
       "      <th>VWAP</th>\n",
       "    </tr>\n",
       "    <tr>\n",
       "      <th>Ticker</th>\n",
       "      <th></th>\n",
       "      <th></th>\n",
       "      <th></th>\n",
       "      <th></th>\n",
       "      <th></th>\n",
       "      <th></th>\n",
       "    </tr>\n",
       "  </thead>\n",
       "  <tbody>\n",
       "    <tr>\n",
       "      <th>NOMD</th>\n",
       "      <td>2021-11-28 18:38:16.206411</td>\n",
       "      <td>15.258335</td>\n",
       "      <td>18.171317</td>\n",
       "      <td>21.0843</td>\n",
       "      <td>24.29</td>\n",
       "      <td>26.84</td>\n",
       "    </tr>\n",
       "  </tbody>\n",
       "</table>\n",
       "</div>"
      ],
      "text/plain": [
       "                             time Worst Case  Base Case Best Case  \\\n",
       "Ticker                                                              \n",
       "NOMD   2021-11-28 18:38:16.206411  15.258335  18.171317   21.0843   \n",
       "\n",
       "       Market Price   VWAP  \n",
       "Ticker                      \n",
       "NOMD          24.29  26.84  "
      ]
     },
     "execution_count": 21,
     "metadata": {},
     "output_type": "execute_result"
    }
   ],
   "source": [
    "valuation = pd.DataFrame(data = [datetime.datetime.now(),np.array(values).mean() - np.array(values).std(), \n",
    "                                np.array(values).mean(),\n",
    "                                np.array(values).mean() + np.array(values).std(),\n",
    "                                stock, vwap],\n",
    "                        index = ['time','Worst Case', 'Base Case','Best Case', 'Market Price', 'VWAP'],\n",
    "                        columns = tickers).T\n",
    "valuation.index.name = 'Ticker'\n",
    "valuation.to_csv('valuation.csv', mode = 'a')\n",
    "valuation.round(2)"
   ]
  },
  {
   "cell_type": "code",
   "execution_count": null,
   "metadata": {},
   "outputs": [],
   "source": []
  },
  {
   "cell_type": "code",
   "execution_count": 22,
   "metadata": {},
   "outputs": [],
   "source": [
    "valu = pd.DataFrame(data = values, columns = tickers)"
   ]
  },
  {
   "cell_type": "code",
   "execution_count": 23,
   "metadata": {},
   "outputs": [
    {
     "data": {
      "text/plain": [
       "<matplotlib.legend.Legend at 0x1b91cf99d60>"
      ]
     },
     "execution_count": 23,
     "metadata": {},
     "output_type": "execute_result"
    },
    {
     "data": {
      "image/png": "[encoded data removed]",
      "text/plain": [
       "<Figure size 720x216 with 1 Axes>"
      ]
     },
     "metadata": {},
     "output_type": "display_data"
    }
   ],
   "source": [
    "sns.set(rc={'figure.figsize':(10,3)})\n",
    "sns.set_theme(style = 'whitegrid')\n",
    "sns.boxplot(data = valu, orient='h', color = 'orange')\n",
    "\n",
    "plt.axvline(x=vwap, ymin=0,ymax=np.max(values), label = f'VWAP ${vwap}', linewidth = 3, color = 'brown')\n",
    "plt.axvline(x=stock, ymin=0,ymax=np.max(values), label = f'Current Price ${stock}', linewidth = 3, color = 'gray')\n",
    "plt.axvline(x=np.median(values), ymin=0,ymax=np.max(values), label = f'Median Value ${round(np.median(values),2)}',\n",
    "            linewidth = 3, color = 'purple')\n",
    "plt.legend(loc = 'upper left')"
   ]
  },
  {
   "cell_type": "code",
   "execution_count": 24,
   "metadata": {},
   "outputs": [
    {
     "data": {
      "text/html": [
       "<div>\n",
       "<style scoped>\n",
       "    .dataframe tbody tr th:only-of-type {\n",
       "        vertical-align: middle;\n",
       "    }\n",
       "\n",
       "    .dataframe tbody tr th {\n",
       "        vertical-align: top;\n",
       "    }\n",
       "\n",
       "    .dataframe thead th {\n",
       "        text-align: right;\n",
       "    }\n",
       "</style>\n",
       "<table border=\"1\" class=\"dataframe\">\n",
       "  <thead>\n",
       "    <tr style=\"text-align: right;\">\n",
       "      <th></th>\n",
       "      <th>Reinvestment Rate</th>\n",
       "      <th>Expected Growth</th>\n",
       "      <th>Tax</th>\n",
       "      <th>EBIT</th>\n",
       "      <th>EBIT(1-t)</th>\n",
       "      <th>Change in Working Capital</th>\n",
       "      <th>Capex - Depreciation</th>\n",
       "      <th>FCFF</th>\n",
       "      <th>WACC</th>\n",
       "      <th>Discount Factor</th>\n",
       "      <th>PV</th>\n",
       "    </tr>\n",
       "  </thead>\n",
       "  <tbody>\n",
       "    <tr>\n",
       "      <th>0</th>\n",
       "      <td>-0.178439</td>\n",
       "      <td>-0.018282</td>\n",
       "      <td>0.144026</td>\n",
       "      <td>374.918116</td>\n",
       "      <td>320.920226</td>\n",
       "      <td>2.836523</td>\n",
       "      <td>-60.101300</td>\n",
       "      <td>378.185003</td>\n",
       "      <td>0.067829</td>\n",
       "      <td>1.067829</td>\n",
       "      <td>354.162645</td>\n",
       "    </tr>\n",
       "    <tr>\n",
       "      <th>1</th>\n",
       "      <td>-0.366160</td>\n",
       "      <td>-0.024382</td>\n",
       "      <td>0.276596</td>\n",
       "      <td>365.777018</td>\n",
       "      <td>264.604615</td>\n",
       "      <td>46.445048</td>\n",
       "      <td>-143.332778</td>\n",
       "      <td>361.492345</td>\n",
       "      <td>0.055516</td>\n",
       "      <td>1.055516</td>\n",
       "      <td>342.479128</td>\n",
       "    </tr>\n",
       "    <tr>\n",
       "      <th>2</th>\n",
       "      <td>-0.026481</td>\n",
       "      <td>-0.016711</td>\n",
       "      <td>0.125424</td>\n",
       "      <td>359.664691</td>\n",
       "      <td>314.553965</td>\n",
       "      <td>-9.832757</td>\n",
       "      <td>1.503107</td>\n",
       "      <td>322.883615</td>\n",
       "      <td>0.058289</td>\n",
       "      <td>1.119975</td>\n",
       "      <td>288.295402</td>\n",
       "    </tr>\n",
       "    <tr>\n",
       "      <th>3</th>\n",
       "      <td>-0.270822</td>\n",
       "      <td>0.006120</td>\n",
       "      <td>0.320967</td>\n",
       "      <td>361.865959</td>\n",
       "      <td>245.719020</td>\n",
       "      <td>7.793245</td>\n",
       "      <td>-74.339437</td>\n",
       "      <td>312.265212</td>\n",
       "      <td>0.056858</td>\n",
       "      <td>1.180456</td>\n",
       "      <td>264.529237</td>\n",
       "    </tr>\n",
       "    <tr>\n",
       "      <th>4</th>\n",
       "      <td>-0.146668</td>\n",
       "      <td>-0.008025</td>\n",
       "      <td>0.290731</td>\n",
       "      <td>358.962149</td>\n",
       "      <td>254.600643</td>\n",
       "      <td>-118.185428</td>\n",
       "      <td>80.843648</td>\n",
       "      <td>291.942423</td>\n",
       "      <td>0.065909</td>\n",
       "      <td>1.290866</td>\n",
       "      <td>226.160187</td>\n",
       "    </tr>\n",
       "    <tr>\n",
       "      <th>5</th>\n",
       "      <td>-0.635990</td>\n",
       "      <td>0.008495</td>\n",
       "      <td>0.161871</td>\n",
       "      <td>362.011654</td>\n",
       "      <td>303.412608</td>\n",
       "      <td>-132.060718</td>\n",
       "      <td>-60.906768</td>\n",
       "      <td>496.380093</td>\n",
       "      <td>0.075752</td>\n",
       "      <td>1.440657</td>\n",
       "      <td>344.551159</td>\n",
       "    </tr>\n",
       "    <tr>\n",
       "      <th>6</th>\n",
       "      <td>-0.097303</td>\n",
       "      <td>-0.017434</td>\n",
       "      <td>0.636687</td>\n",
       "      <td>355.700338</td>\n",
       "      <td>129.230654</td>\n",
       "      <td>-95.513836</td>\n",
       "      <td>82.939342</td>\n",
       "      <td>141.805148</td>\n",
       "      <td>0.052561</td>\n",
       "      <td>1.359827</td>\n",
       "      <td>104.281727</td>\n",
       "    </tr>\n",
       "    <tr>\n",
       "      <th>7</th>\n",
       "      <td>-0.914975</td>\n",
       "      <td>-0.018879</td>\n",
       "      <td>0.076682</td>\n",
       "      <td>348.984975</td>\n",
       "      <td>322.223995</td>\n",
       "      <td>-113.412141</td>\n",
       "      <td>-181.414920</td>\n",
       "      <td>617.051055</td>\n",
       "      <td>0.050032</td>\n",
       "      <td>1.407399</td>\n",
       "      <td>438.433586</td>\n",
       "    </tr>\n",
       "    <tr>\n",
       "      <th>8</th>\n",
       "      <td>-0.000902</td>\n",
       "      <td>-0.033890</td>\n",
       "      <td>0.045779</td>\n",
       "      <td>337.158005</td>\n",
       "      <td>321.723410</td>\n",
       "      <td>41.210941</td>\n",
       "      <td>-41.500994</td>\n",
       "      <td>322.013463</td>\n",
       "      <td>0.073639</td>\n",
       "      <td>1.765493</td>\n",
       "      <td>182.392951</td>\n",
       "    </tr>\n",
       "    <tr>\n",
       "      <th>9</th>\n",
       "      <td>-0.651524</td>\n",
       "      <td>0.016096</td>\n",
       "      <td>0.553562</td>\n",
       "      <td>342.584982</td>\n",
       "      <td>152.942961</td>\n",
       "      <td>-15.022564</td>\n",
       "      <td>-84.623407</td>\n",
       "      <td>252.588932</td>\n",
       "      <td>0.070365</td>\n",
       "      <td>1.844118</td>\n",
       "      <td>136.970014</td>\n",
       "    </tr>\n",
       "  </tbody>\n",
       "</table>\n",
       "</div>"
      ],
      "text/plain": [
       "   Reinvestment Rate  Expected Growth       Tax        EBIT   EBIT(1-t)  \\\n",
       "0          -0.178439        -0.018282  0.144026  374.918116  320.920226   \n",
       "1          -0.366160        -0.024382  0.276596  365.777018  264.604615   \n",
       "2          -0.026481        -0.016711  0.125424  359.664691  314.553965   \n",
       "3          -0.270822         0.006120  0.320967  361.865959  245.719020   \n",
       "4          -0.146668        -0.008025  0.290731  358.962149  254.600643   \n",
       "5          -0.635990         0.008495  0.161871  362.011654  303.412608   \n",
       "6          -0.097303        -0.017434  0.636687  355.700338  129.230654   \n",
       "7          -0.914975        -0.018879  0.076682  348.984975  322.223995   \n",
       "8          -0.000902        -0.033890  0.045779  337.158005  321.723410   \n",
       "9          -0.651524         0.016096  0.553562  342.584982  152.942961   \n",
       "\n",
       "   Change in Working Capital  Capex - Depreciation        FCFF      WACC  \\\n",
       "0                   2.836523            -60.101300  378.185003  0.067829   \n",
       "1                  46.445048           -143.332778  361.492345  0.055516   \n",
       "2                  -9.832757              1.503107  322.883615  0.058289   \n",
       "3                   7.793245            -74.339437  312.265212  0.056858   \n",
       "4                -118.185428             80.843648  291.942423  0.065909   \n",
       "5                -132.060718            -60.906768  496.380093  0.075752   \n",
       "6                 -95.513836             82.939342  141.805148  0.052561   \n",
       "7                -113.412141           -181.414920  617.051055  0.050032   \n",
       "8                  41.210941            -41.500994  322.013463  0.073639   \n",
       "9                 -15.022564            -84.623407  252.588932  0.070365   \n",
       "\n",
       "   Discount Factor          PV  \n",
       "0         1.067829  354.162645  \n",
       "1         1.055516  342.479128  \n",
       "2         1.119975  288.295402  \n",
       "3         1.180456  264.529237  \n",
       "4         1.290866  226.160187  \n",
       "5         1.440657  344.551159  \n",
       "6         1.359827  104.281727  \n",
       "7         1.407399  438.433586  \n",
       "8         1.765493  182.392951  \n",
       "9         1.844118  136.970014  "
      ]
     },
     "execution_count": 24,
     "metadata": {},
     "output_type": "execute_result"
    }
   ],
   "source": [
    "fcf_table = pd.DataFrame(data = [Reinvestment_rate, Expected_g, tax,\n",
    "                                 EBIT_E, after_tax_EBIT, change_in_working_capital,\n",
    "                                 Capex_Dep, FCFF, simWACC, discount_factor,PV],\n",
    "                         index = ['Reinvestment Rate', 'Expected Growth',\n",
    "                                   'Tax','EBIT','EBIT(1-t)',\n",
    "                                  'Change in Working Capital', 'Capex - Depreciation',\n",
    "                                  'FCFF', 'WACC','Discount Factor','PV']).T\n",
    "fcf_table"
   ]
  },
  {
   "cell_type": "code",
   "execution_count": 25,
   "metadata": {},
   "outputs": [
    {
     "data": {
      "text/plain": [
       "<matplotlib.legend.Legend at 0x1b91e8a51f0>"
      ]
     },
     "execution_count": 25,
     "metadata": {},
     "output_type": "execute_result"
    },
    {
     "data": {
      "image/png": "[encoded data removed]",
      "text/plain": [
       "<Figure size 720x216 with 1 Axes>"
      ]
     },
     "metadata": {},
     "output_type": "display_data"
    }
   ],
   "source": [
    "plt.plot(EBIT_E,label = 'EBIT')\n",
    "plt.plot(after_tax_EBIT, label = 'After tax EBIT')\n",
    "plt.legend()"
   ]
  },
  {
   "cell_type": "code",
   "execution_count": 26,
   "metadata": {},
   "outputs": [
    {
     "name": "stderr",
     "output_type": "stream",
     "text": [
      "C:\\Users\\nemat\\AppData\\Roaming\\Python\\Python38\\site-packages\\pypfopt\\expected_returns.py:119: RuntimeWarning: prices are not in a dataframe\n",
      "  warnings.warn(\"prices are not in a dataframe\", RuntimeWarning)\n",
      "C:\\Users\\nemat\\AppData\\Roaming\\Python\\Python38\\site-packages\\pypfopt\\risk_models.py:165: RuntimeWarning: data is not in a dataframe\n",
      "  warnings.warn(\"data is not in a dataframe\", RuntimeWarning)\n"
     ]
    },
    {
     "data": {
      "text/html": [
       "<div>\n",
       "<style scoped>\n",
       "    .dataframe tbody tr th:only-of-type {\n",
       "        vertical-align: middle;\n",
       "    }\n",
       "\n",
       "    .dataframe tbody tr th {\n",
       "        vertical-align: top;\n",
       "    }\n",
       "\n",
       "    .dataframe thead th {\n",
       "        text-align: right;\n",
       "    }\n",
       "</style>\n",
       "<table border=\"1\" class=\"dataframe\">\n",
       "  <thead>\n",
       "    <tr style=\"text-align: right;\">\n",
       "      <th></th>\n",
       "      <th>NOMD</th>\n",
       "    </tr>\n",
       "  </thead>\n",
       "  <tbody>\n",
       "    <tr>\n",
       "      <th>Mean</th>\n",
       "      <td>0.135867</td>\n",
       "    </tr>\n",
       "    <tr>\n",
       "      <th>StDev</th>\n",
       "      <td>0.117368</td>\n",
       "    </tr>\n",
       "  </tbody>\n",
       "</table>\n",
       "</div>"
      ],
      "text/plain": [
       "           NOMD\n",
       "Mean   0.135867\n",
       "StDev  0.117368"
      ]
     },
     "execution_count": 26,
     "metadata": {},
     "output_type": "execute_result"
    }
   ],
   "source": [
    "s = market_data['Adj Close']\n",
    "returns = ppo.expected_returns.mean_historical_return(s.values)\n",
    "stdev = ppo.risk_models.risk_matrix(s, method='sample_cov')\n",
    "# np.std(s.pct_change())\n",
    "stats = pd.DataFrame(data = [returns.values[0], stdev.values[0][0]],\n",
    "             index = ['Mean', 'StDev'], columns = tickers)\n",
    "stats\n"
   ]
  },
  {
   "cell_type": "code",
   "execution_count": 27,
   "metadata": {},
   "outputs": [
    {
     "data": {
      "text/plain": [
       "Text(0, 0.5, 'Cumulative Returns')"
      ]
     },
     "execution_count": 27,
     "metadata": {},
     "output_type": "execute_result"
    },
    {
     "data": {
      "image/png": "[encoded data removed]",
      "text/plain": [
       "<Figure size 720x216 with 1 Axes>"
      ]
     },
     "metadata": {},
     "output_type": "display_data"
    }
   ],
   "source": [
    "plt.plot((1 + s.pct_change()).cumprod() - 1, color = 'y')\n",
    "plt.xlabel('Date')\n",
    "plt.ylabel('Cumulative Returns')"
   ]
  },
  {
   "cell_type": "code",
   "execution_count": 28,
   "metadata": {},
   "outputs": [
    {
     "data": {
      "text/plain": [
       "Text(0, 0.5, 'Close Price')"
      ]
     },
     "execution_count": 28,
     "metadata": {},
     "output_type": "execute_result"
    },
    {
     "data": {
      "image/png": "[encoded data removed]",
      "text/plain": [
       "<Figure size 720x216 with 1 Axes>"
      ]
     },
     "metadata": {},
     "output_type": "display_data"
    }
   ],
   "source": [
    "plt.plot(market_data['Close'][-(252):])\n",
    "plt.xlabel('Date')\n",
    "plt.ylabel('Close Price')"
   ]
  }
 ],
 "metadata": {
  "kernelspec": {
   "display_name": "Python 3",
   "language": "python",
   "name": "python3"
  },
  "language_info": {
   "codemirror_mode": {
    "name": "ipython",
    "version": 3
   },
   "file_extension": ".py",
   "mimetype": "text/x-python",
   "name": "python",
   "nbconvert_exporter": "python",
   "pygments_lexer": "ipython3",
   "version": "3.8.8"
  }
 },
 "nbformat": 4,
 "nbformat_minor": 4
}
