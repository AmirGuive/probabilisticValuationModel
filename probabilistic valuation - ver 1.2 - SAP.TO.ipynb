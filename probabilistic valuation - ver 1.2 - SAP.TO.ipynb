{
 "cells": [
  {
   "cell_type": "code",
   "execution_count": 1,
   "metadata": {},
   "outputs": [],
   "source": [
    "import pandas as pd\n",
    "import numpy as np\n",
    "import re\n",
    "import datetime\n",
    "import matplotlib.pyplot as plt\n",
    "import yfinance as yf\n",
    "import math\n",
    "import seaborn as sns\n",
    "from matplotlib import rc\n",
    "import matplotlib.ticker as ticker\n",
    "from dataclasses import dataclass\n",
    "from scipy.stats import norm\n",
    "from scipy import stats\n",
    "import pypfopt as ppo\n",
    "\n",
    "%matplotlib inline"
   ]
  },
  {
   "cell_type": "markdown",
   "metadata": {},
   "source": [
    "# Setting the Context\n",
    "## Probabilistic DCF valuation\n",
    "\n",
    "To calculate the Free Cash Flow to Firm we use the below equation:\n",
    "\n",
    "<img src=\"https://latex.codecogs.com/gif.download?%5Cinline%20FCFF%20%5C%3B%20%3D%20%5C%3B%20EBIT%20*%20%281-%20Effective%20Tax%29%20%5C%3B+%5C%3B%20Dep.%5C%3B%20and%20%5C%3B%20Amort.%5C%3B%20-%20%5C%3BChange%5C%3Bin%5C%3BNet%5C%3BWorking%5C%3BCapital-%5C%3BCAPEX\">\n",
    "\n",
    "To forecast the FCFF we need to forecast each element in the above equiation, and for do it automatically we need to introduce proxies for each item:\n",
    "\n",
    "<img src=\"https://latex.codecogs.com/gif.latex?Reinvestment\\;Rate&space;=&space;\\;&space;\\frac{CapEx\\;-\\;&space;Dep.\\;and\\;Amort.\\;&plus;\\;Changes&space;\\;in\\;WC}{EBIT\\;&space;\\times\\;&space;(1\\;&space;-\\;&space;Eff.\\;&space;Tax\\;&space;Rate)}\" title=\"Reinvestment\\;Rate = \\; \\frac{CapEx\\;-\\; Dep.\\;and\\;Amort.\\;+\\;Changes \\;in\\;WC}{EBIT\\; \\times\\; (1\\; -\\; Eff.\\; Tax\\; Rate)}\" />\n",
    "\n",
    "\n",
    "<img src=\"https://latex.codecogs.com/gif.latex?Return\\;on\\;Capital&space;=&space;\\frac{EBIT\\;&space;\\times\\;&space;(1\\;&space;-\\;&space;Eff.\\;&space;Tax\\;&space;Rate)}{Total\\;Debt\\;&plus;\\;Total\\;Equity}\" title=\"Return\\;on\\;Capital = \\frac{EBIT\\; \\times\\; (1\\; -\\; Eff.\\; Tax\\; Rate)}{Total\\;Debt\\;+\\;Total\\;Equity}\" />\n",
    "\n",
    "and the internal growth rate will be : \n",
    "\n",
    "<img src=\"https://latex.codecogs.com/gif.latex?g\\;=\\;&space;Reinvestment\\;Rate\\;&space;\\times\\;&space;ROC\" title=\"g\\;=\\; Reinvestment\\;Rate\\; \\times\\; ROC\" />\n",
    "\n",
    "first we need to extract the historical data for each proxy and we will assume that the future rates will oscillate around the historical mean and standard deviation. \n",
    "\n",
    "\n",
    "### Resources\n",
    "https://www.youtube.com/watch?v=8gYT3Xgs6NE \\\n",
    "https://pages.stern.nyu.edu/~adamodar/ \\\n",
    "https://papers.ssrn.com/sol3/papers.cfm?abstract_id=3237778\n"
   ]
  },
  {
   "cell_type": "markdown",
   "metadata": {},
   "source": [
    "# Loading Data"
   ]
  },
  {
   "cell_type": "code",
   "execution_count": 2,
   "metadata": {
    "scrolled": false
   },
   "outputs": [
    {
     "name": "stdout",
     "output_type": "stream",
     "text": [
      "WARNING *** file size (367626) not 512 + multiple of sector size (512)\n",
      "WARNING *** file size (367626) not 512 + multiple of sector size (512)\n",
      "WARNING *** file size (367626) not 512 + multiple of sector size (512)\n",
      "WARNING *** file size (367626) not 512 + multiple of sector size (512)\n"
     ]
    }
   ],
   "source": [
    "path = '..\\\\Saputo Inc TSX SAP Financials.xls'\n",
    "tickers = ['SAP.TO']\n",
    "WACC = 0.062754\n",
    "WACC_std = 0.0139884774\n",
    "\n",
    "inc_df = pd.read_excel(path,\n",
    "                      sheet_name='Income Statement', skiprows=14, index_col=0)\n",
    "bs_df = pd.read_excel(path,\n",
    "                         sheet_name='Balance Sheet', skiprows=14,index_col=0)\n",
    "cf_df = pd.read_excel(path,\n",
    "                         sheet_name='Cash Flow', skiprows=14,index_col=0)\n",
    "Mult_df = pd.read_excel(path,\n",
    "                         sheet_name='Multiples', skiprows=13,index_col=0)\n"
   ]
  },
  {
   "cell_type": "markdown",
   "metadata": {},
   "source": [
    "# Data cleaning and calculation functions "
   ]
  },
  {
   "cell_type": "code",
   "execution_count": 3,
   "metadata": {},
   "outputs": [],
   "source": [
    "def StatementParser(df):\n",
    "    date={}\n",
    "    for i in range(len(df.columns)):\n",
    "        if type(df.columns[i]) is str:\n",
    "            match = re.search(r'\\w{3}-\\d{2}-\\d{4}', str(df.columns[i]))\n",
    "            date[str(df.columns[i])] = datetime.datetime.strptime(match.group(), '%b-%d-%Y').date()\n",
    "        else:\n",
    "            match = re.search(r'\\d{4}-\\d{2}-\\d{2}', str(df.columns[i]))\n",
    "            date[str(df.columns[i])] = datetime.datetime.strptime(match.group(), '%Y-%m-%d').date()\n",
    "    df.rename(columns = date, inplace = True)\n",
    "    df.replace(to_replace='-', value= 0 , inplace=True)\n",
    "    df.dropna(how = 'all', inplace = True)\n",
    "    df.drop('Currency', inplace = True)\n",
    "    \n",
    "    df = df.T\n",
    "    df['Date'] = df.index\n",
    "    df.set_index(df['Date'], inplace = True)\n",
    "    df.drop('Date', axis=1, inplace = True)\n",
    "    \n",
    "    col={}\n",
    "    for i in range(len(df.columns)):\n",
    "        col[str(df.columns[i])] = str(str(df.columns[i]).lstrip())\n",
    "    df.rename(columns = col, inplace = True)\n",
    "    \n",
    "    if df.index[-1].month != df.index[0].month:\n",
    "        df.drop(df.tail(1).index , inplace=True)\n",
    "    else:\n",
    "        pass\n",
    "\n",
    "    return df\n",
    "\n",
    "def multiplesParser(df):\n",
    "    a = df.loc[df.index == 'TEV/NTM EBIT'].T\n",
    "    b = df.loc[df.index == 'TEV/LTM EBIT'].T\n",
    "    c = df.loc[df.index == 'TEV/NTM EBITDA'].T\n",
    "    d = df.loc[df.index == 'TEV/LTM EBITDA'].T\n",
    "    mult = a.join(b.join(c.join(d))).T\n",
    "    mult.drop(columns=mult.columns[0], inplace = True)\n",
    "    mult.replace(to_replace = '-', value = np.nan, inplace = True)\n",
    "    mult.replace(to_replace = 'NM', value = np.nan, inplace = True)    \n",
    "    mult = mult.apply(pd.to_numeric)\n",
    "    mult = mult.T\n",
    "    return mult\n",
    "    \n",
    "def load_info(tickers):\n",
    "    inf = [[0 for i in range(len(tickers))] for j in range(8)]\n",
    "    for i in range(len(tickers)):\n",
    "        info = yf.Ticker(tickers[i]).info\n",
    "        inf[0][i] = info['longName']\n",
    "        inf[1][i] = info['sector']\n",
    "        inf[2][i] = info['marketCap']\n",
    "        inf[3][i] = info['beta']\n",
    "        inf[4][i] = info['returnOnAssets']\n",
    "        inf[5][i] = info['returnOnEquity']\n",
    "        inf[6][i] = info['enterpriseToRevenue']\n",
    "        inf[7][i] = info['enterpriseToEbitda']\n",
    "    inf_df = pd.DataFrame(data = [inf[0], inf[1], np.array(inf[2])/1000000000, inf[3], inf[4], inf[5], inf[6], inf[7]],\n",
    "                         index = ['Name', 'Sector', 'Market Cap $B', 'Beta', 'ROA', 'ROE', 'EV/Revenue', 'EV/EBITDA'],\n",
    "                         columns = tickers).T\n",
    "    return inf, inf_df"
   ]
  },
  {
   "cell_type": "markdown",
   "metadata": {},
   "source": [
    "## Loading Multiples"
   ]
  },
  {
   "cell_type": "code",
   "execution_count": 4,
   "metadata": {},
   "outputs": [],
   "source": [
    "multiples = multiplesParser(Mult_df)"
   ]
  },
  {
   "cell_type": "code",
   "execution_count": 5,
   "metadata": {},
   "outputs": [],
   "source": [
    "IS = StatementParser(inc_df)"
   ]
  },
  {
   "cell_type": "code",
   "execution_count": 6,
   "metadata": {},
   "outputs": [],
   "source": [
    "BS = StatementParser(bs_df)"
   ]
  },
  {
   "cell_type": "code",
   "execution_count": 7,
   "metadata": {},
   "outputs": [],
   "source": [
    "CF = StatementParser(cf_df)"
   ]
  },
  {
   "cell_type": "code",
   "execution_count": 8,
   "metadata": {},
   "outputs": [
    {
     "data": {
      "text/html": [
       "<div>\n",
       "<style scoped>\n",
       "    .dataframe tbody tr th:only-of-type {\n",
       "        vertical-align: middle;\n",
       "    }\n",
       "\n",
       "    .dataframe tbody tr th {\n",
       "        vertical-align: top;\n",
       "    }\n",
       "\n",
       "    .dataframe thead th {\n",
       "        text-align: right;\n",
       "    }\n",
       "</style>\n",
       "<table border=\"1\" class=\"dataframe\">\n",
       "  <thead>\n",
       "    <tr style=\"text-align: right;\">\n",
       "      <th></th>\n",
       "      <th>Name</th>\n",
       "      <th>Sector</th>\n",
       "      <th>Market Cap $B</th>\n",
       "      <th>Beta</th>\n",
       "      <th>ROA</th>\n",
       "      <th>ROE</th>\n",
       "      <th>EV/Revenue</th>\n",
       "      <th>EV/EBITDA</th>\n",
       "    </tr>\n",
       "  </thead>\n",
       "  <tbody>\n",
       "    <tr>\n",
       "      <th>SAP.TO</th>\n",
       "      <td>Saputo Inc.</td>\n",
       "      <td>Consumer Defensive</td>\n",
       "      <td>12.472266</td>\n",
       "      <td>0.572533</td>\n",
       "      <td>0.03598</td>\n",
       "      <td>0.07138</td>\n",
       "      <td>1.16</td>\n",
       "      <td>13.85</td>\n",
       "    </tr>\n",
       "  </tbody>\n",
       "</table>\n",
       "</div>"
      ],
      "text/plain": [
       "               Name              Sector Market Cap $B      Beta      ROA  \\\n",
       "SAP.TO  Saputo Inc.  Consumer Defensive     12.472266  0.572533  0.03598   \n",
       "\n",
       "            ROE EV/Revenue EV/EBITDA  \n",
       "SAP.TO  0.07138       1.16     13.85  "
      ]
     },
     "execution_count": 8,
     "metadata": {},
     "output_type": "execute_result"
    }
   ],
   "source": [
    "info, info_df = load_info(tickers)\n",
    "info_df"
   ]
  },
  {
   "cell_type": "code",
   "execution_count": 9,
   "metadata": {},
   "outputs": [
    {
     "name": "stdout",
     "output_type": "stream",
     "text": [
      "[*********************100%***********************]  1 of 1 completed\n"
     ]
    }
   ],
   "source": [
    "market_data = yf.download(tickers, period = 'max', interval = '1d')"
   ]
  },
  {
   "cell_type": "markdown",
   "metadata": {},
   "source": [
    "# Looking at the Capital Structure"
   ]
  },
  {
   "cell_type": "code",
   "execution_count": 10,
   "metadata": {},
   "outputs": [
    {
     "data": {
      "image/png": "[encoded data removed]",
      "text/plain": [
       "<Figure size 576x288 with 1 Axes>"
      ]
     },
     "metadata": {
      "needs_background": "light"
     },
     "output_type": "display_data"
    }
   ],
   "source": [
    "plt.figure(figsize=(8,4))\n",
    "rc('font', weight = 'bold')\n",
    "bars2 = BS['Total Debt']\n",
    "bars1 = BS['Total Equity']\n",
    "\n",
    "bars = np.add(bars1, bars2).tolist()\n",
    "\n",
    "r = range(len(bars1))\n",
    " \n",
    "names = BS.index.year\n",
    "barWidth = 0.75\n",
    "\n",
    "plt.bar(r, bars1, color='orange', edgecolor='white', width=barWidth, label = 'Total Equity')\n",
    "plt.bar(r, bars2, bottom=bars1, color='green', edgecolor='white', width=barWidth, label = 'Total Debt')\n",
    "\n",
    "plt.xticks(r, names, fontweight='bold')\n",
    "plt.title(\"Capital Structure\")\n",
    "plt.legend()\n",
    "plt.show()"
   ]
  },
  {
   "cell_type": "code",
   "execution_count": 11,
   "metadata": {},
   "outputs": [
    {
     "data": {
      "image/png": "[encoded data removed]",
      "text/plain": [
       "<Figure size 576x288 with 1 Axes>"
      ]
     },
     "metadata": {
      "needs_background": "light"
     },
     "output_type": "display_data"
    }
   ],
   "source": [
    "plt.figure(figsize=(8,4))\n",
    "# Data\n",
    "# r = []\n",
    "raw_data = {'greenBars': BS['Total Debt'], 'orangeBars': BS['Total Equity']}\n",
    "df = pd.DataFrame(raw_data)\n",
    " \n",
    "# From raw value to percentage\n",
    "totals = [i+j for i,j in zip(df['greenBars'], df['orangeBars'])]\n",
    "greenBars = [i / j * 100 for i,j in zip(df['greenBars'], totals)]\n",
    "orangeBars = [i / j * 100 for i,j in zip(df['orangeBars'], totals)]\n",
    " \n",
    "# plot\n",
    "barWidth = 0.75\n",
    "# names = ()\n",
    "# Create orange Bars (Equity)\n",
    "plt.bar(r, orangeBars, color='orange', edgecolor='white', width=barWidth, label = 'Total Equity')\n",
    "# Create green Bars (Debt)\n",
    "plt.bar(r, greenBars, bottom=orangeBars, color='green', edgecolor='white', width=barWidth, label = 'Total Debt')\n",
    " \n",
    "# Custom x axis\n",
    "plt.xticks(r, names)\n",
    "plt.title('Capital Structure')\n",
    " \n",
    "# Show graphic\n",
    "plt.legend(loc = 'upper right')\n",
    "plt.show()\n"
   ]
  },
  {
   "cell_type": "markdown",
   "metadata": {},
   "source": [
    "# Calculating the Fundamentals"
   ]
  },
  {
   "cell_type": "code",
   "execution_count": 12,
   "metadata": {},
   "outputs": [],
   "source": [
    "revenue = IS['Revenue']\n",
    "Chg_WC = CF['Change in Net Working Capital']\n",
    "eff_tax = IS['Effective Tax Rate %'].replace('NM' , 0)\n",
    "capex = abs(CF['Capital Expenditure'])\n",
    "depreciation = CF['Depreciation & Amort., Total']\n",
    "EBIT = IS['EBIT']\n",
    "after_tax_EBIT = EBIT * (1 - eff_tax)\n",
    "Reinv_rate = (capex - depreciation + Chg_WC) / (EBIT * (1 - eff_tax))\n",
    "roc = (IS['EBIT'] * (1 - eff_tax)) / (BS['Total Debt'] + BS['Total Equity'])\n",
    "g = (Reinv_rate * roc) \n",
    "fundamentals = pd.DataFrame(data = [revenue, Chg_WC, eff_tax, capex, depreciation, EBIT, after_tax_EBIT,\n",
    "                                        Reinv_rate, roc, g],\n",
    "                                index= [ 'Revenue','Change in Working Capital',\n",
    "                                        'Effective Tax Rate', 'Capex', 'Depr. & Amort.', 'EBIT','EBIT (1-t)',\n",
    "                                        'Reinvestment Rate', 'ROC', 'g']).T\n",
    "\n",
    "Terminal_multiple = multiples['TEV/NTM EBIT'].mean()\n",
    "terminalChanges = multiples['TEV/NTM EBIT'].std()\n",
    "vwap_df = market_data[-252:]\n",
    "vwap = round(np.average(vwap_df['Adj Close'], weights=vwap_df['Volume']),2)"
   ]
  },
  {
   "cell_type": "code",
   "execution_count": 13,
   "metadata": {},
   "outputs": [
    {
     "data": {
      "text/html": [
       "<div>\n",
       "<style scoped>\n",
       "    .dataframe tbody tr th:only-of-type {\n",
       "        vertical-align: middle;\n",
       "    }\n",
       "\n",
       "    .dataframe tbody tr th {\n",
       "        vertical-align: top;\n",
       "    }\n",
       "\n",
       "    .dataframe thead th {\n",
       "        text-align: right;\n",
       "    }\n",
       "</style>\n",
       "<table border=\"1\" class=\"dataframe\">\n",
       "  <thead>\n",
       "    <tr style=\"text-align: right;\">\n",
       "      <th></th>\n",
       "      <th>Revenue</th>\n",
       "      <th>Change in Working Capital</th>\n",
       "      <th>Effective Tax Rate</th>\n",
       "      <th>Capex</th>\n",
       "      <th>Depr. &amp; Amort.</th>\n",
       "      <th>EBIT</th>\n",
       "      <th>EBIT (1-t)</th>\n",
       "      <th>Reinvestment Rate</th>\n",
       "      <th>ROC</th>\n",
       "      <th>g</th>\n",
       "    </tr>\n",
       "    <tr>\n",
       "      <th>Date</th>\n",
       "      <th></th>\n",
       "      <th></th>\n",
       "      <th></th>\n",
       "      <th></th>\n",
       "      <th></th>\n",
       "      <th></th>\n",
       "      <th></th>\n",
       "      <th></th>\n",
       "      <th></th>\n",
       "      <th></th>\n",
       "    </tr>\n",
       "  </thead>\n",
       "  <tbody>\n",
       "    <tr>\n",
       "      <th>2012-03-31</th>\n",
       "      <td>6930.370</td>\n",
       "      <td>105.370</td>\n",
       "      <td>0.342629</td>\n",
       "      <td>118.6</td>\n",
       "      <td>101.943</td>\n",
       "      <td>728.988</td>\n",
       "      <td>479.215571</td>\n",
       "      <td>0.254639</td>\n",
       "      <td>0.180687</td>\n",
       "      <td>0.046010</td>\n",
       "    </tr>\n",
       "    <tr>\n",
       "      <th>2013-03-31</th>\n",
       "      <td>7297.677</td>\n",
       "      <td>57.480</td>\n",
       "      <td>0.278309</td>\n",
       "      <td>178.2</td>\n",
       "      <td>116.629</td>\n",
       "      <td>744.143</td>\n",
       "      <td>537.041306</td>\n",
       "      <td>0.221679</td>\n",
       "      <td>0.132906</td>\n",
       "      <td>0.029462</td>\n",
       "    </tr>\n",
       "    <tr>\n",
       "      <th>2014-03-31</th>\n",
       "      <td>9232.889</td>\n",
       "      <td>258.075</td>\n",
       "      <td>0.296478</td>\n",
       "      <td>223.6</td>\n",
       "      <td>146.607</td>\n",
       "      <td>873.738</td>\n",
       "      <td>614.693905</td>\n",
       "      <td>0.545097</td>\n",
       "      <td>0.124402</td>\n",
       "      <td>0.067811</td>\n",
       "    </tr>\n",
       "    <tr>\n",
       "      <th>2015-03-31</th>\n",
       "      <td>10657.700</td>\n",
       "      <td>98.328</td>\n",
       "      <td>0.278856</td>\n",
       "      <td>186.9</td>\n",
       "      <td>170.900</td>\n",
       "      <td>890.800</td>\n",
       "      <td>642.395075</td>\n",
       "      <td>0.177971</td>\n",
       "      <td>0.119486</td>\n",
       "      <td>0.021265</td>\n",
       "    </tr>\n",
       "    <tr>\n",
       "      <th>2016-03-31</th>\n",
       "      <td>10991.500</td>\n",
       "      <td>144.400</td>\n",
       "      <td>0.309449</td>\n",
       "      <td>183.5</td>\n",
       "      <td>198.600</td>\n",
       "      <td>975.500</td>\n",
       "      <td>673.632500</td>\n",
       "      <td>0.191944</td>\n",
       "      <td>0.118156</td>\n",
       "      <td>0.022679</td>\n",
       "    </tr>\n",
       "    <tr>\n",
       "      <th>2017-03-31</th>\n",
       "      <td>11162.600</td>\n",
       "      <td>-47.400</td>\n",
       "      <td>0.297221</td>\n",
       "      <td>236.7</td>\n",
       "      <td>206.100</td>\n",
       "      <td>1082.200</td>\n",
       "      <td>760.547434</td>\n",
       "      <td>-0.022089</td>\n",
       "      <td>0.128543</td>\n",
       "      <td>-0.002839</td>\n",
       "    </tr>\n",
       "    <tr>\n",
       "      <th>2018-03-31</th>\n",
       "      <td>11542.500</td>\n",
       "      <td>174.700</td>\n",
       "      <td>0.102537</td>\n",
       "      <td>277.8</td>\n",
       "      <td>219.800</td>\n",
       "      <td>1038.400</td>\n",
       "      <td>931.925579</td>\n",
       "      <td>0.249698</td>\n",
       "      <td>0.145243</td>\n",
       "      <td>0.036267</td>\n",
       "    </tr>\n",
       "    <tr>\n",
       "      <th>2019-03-31</th>\n",
       "      <td>13501.900</td>\n",
       "      <td>337.300</td>\n",
       "      <td>0.233664</td>\n",
       "      <td>370.5</td>\n",
       "      <td>286.000</td>\n",
       "      <td>908.300</td>\n",
       "      <td>696.062989</td>\n",
       "      <td>0.605980</td>\n",
       "      <td>0.089031</td>\n",
       "      <td>0.053951</td>\n",
       "    </tr>\n",
       "    <tr>\n",
       "      <th>2020-03-31</th>\n",
       "      <td>14943.500</td>\n",
       "      <td>316.900</td>\n",
       "      <td>0.270862</td>\n",
       "      <td>509.9</td>\n",
       "      <td>440.100</td>\n",
       "      <td>1006.200</td>\n",
       "      <td>733.658656</td>\n",
       "      <td>0.527084</td>\n",
       "      <td>0.066426</td>\n",
       "      <td>0.035012</td>\n",
       "    </tr>\n",
       "    <tr>\n",
       "      <th>2021-03-31</th>\n",
       "      <td>14293.900</td>\n",
       "      <td>84.300</td>\n",
       "      <td>0.258240</td>\n",
       "      <td>379.5</td>\n",
       "      <td>478.000</td>\n",
       "      <td>963.300</td>\n",
       "      <td>714.537408</td>\n",
       "      <td>-0.019873</td>\n",
       "      <td>0.067675</td>\n",
       "      <td>-0.001345</td>\n",
       "    </tr>\n",
       "  </tbody>\n",
       "</table>\n",
       "</div>"
      ],
      "text/plain": [
       "              Revenue  Change in Working Capital  Effective Tax Rate  Capex  \\\n",
       "Date                                                                          \n",
       "2012-03-31   6930.370                    105.370            0.342629  118.6   \n",
       "2013-03-31   7297.677                     57.480            0.278309  178.2   \n",
       "2014-03-31   9232.889                    258.075            0.296478  223.6   \n",
       "2015-03-31  10657.700                     98.328            0.278856  186.9   \n",
       "2016-03-31  10991.500                    144.400            0.309449  183.5   \n",
       "2017-03-31  11162.600                    -47.400            0.297221  236.7   \n",
       "2018-03-31  11542.500                    174.700            0.102537  277.8   \n",
       "2019-03-31  13501.900                    337.300            0.233664  370.5   \n",
       "2020-03-31  14943.500                    316.900            0.270862  509.9   \n",
       "2021-03-31  14293.900                     84.300            0.258240  379.5   \n",
       "\n",
       "            Depr. & Amort.      EBIT  EBIT (1-t)  Reinvestment Rate       ROC  \\\n",
       "Date                                                                            \n",
       "2012-03-31         101.943   728.988  479.215571           0.254639  0.180687   \n",
       "2013-03-31         116.629   744.143  537.041306           0.221679  0.132906   \n",
       "2014-03-31         146.607   873.738  614.693905           0.545097  0.124402   \n",
       "2015-03-31         170.900   890.800  642.395075           0.177971  0.119486   \n",
       "2016-03-31         198.600   975.500  673.632500           0.191944  0.118156   \n",
       "2017-03-31         206.100  1082.200  760.547434          -0.022089  0.128543   \n",
       "2018-03-31         219.800  1038.400  931.925579           0.249698  0.145243   \n",
       "2019-03-31         286.000   908.300  696.062989           0.605980  0.089031   \n",
       "2020-03-31         440.100  1006.200  733.658656           0.527084  0.066426   \n",
       "2021-03-31         478.000   963.300  714.537408          -0.019873  0.067675   \n",
       "\n",
       "                   g  \n",
       "Date                  \n",
       "2012-03-31  0.046010  \n",
       "2013-03-31  0.029462  \n",
       "2014-03-31  0.067811  \n",
       "2015-03-31  0.021265  \n",
       "2016-03-31  0.022679  \n",
       "2017-03-31 -0.002839  \n",
       "2018-03-31  0.036267  \n",
       "2019-03-31  0.053951  \n",
       "2020-03-31  0.035012  \n",
       "2021-03-31 -0.001345  "
      ]
     },
     "execution_count": 13,
     "metadata": {},
     "output_type": "execute_result"
    }
   ],
   "source": [
    "fundamentals"
   ]
  },
  {
   "cell_type": "code",
   "execution_count": 14,
   "metadata": {},
   "outputs": [
    {
     "data": {
      "text/plain": [
       "(0.03082741193739456, 0.02238132299912822)"
      ]
     },
     "execution_count": 14,
     "metadata": {},
     "output_type": "execute_result"
    }
   ],
   "source": [
    "g.mean(), g.std()"
   ]
  },
  {
   "cell_type": "code",
   "execution_count": 15,
   "metadata": {},
   "outputs": [
    {
     "data": {
      "text/plain": [
       "(15.046726274999994, 2.074180462186698)"
      ]
     },
     "execution_count": 15,
     "metadata": {},
     "output_type": "execute_result"
    }
   ],
   "source": [
    "Terminal_multiple, terminalChanges"
   ]
  },
  {
   "cell_type": "markdown",
   "metadata": {},
   "source": [
    "# Running the Simulation"
   ]
  },
  {
   "cell_type": "code",
   "execution_count": 16,
   "metadata": {},
   "outputs": [],
   "source": [
    "t_intervals = 10\n",
    "iterations = 100000"
   ]
  },
  {
   "cell_type": "code",
   "execution_count": 17,
   "metadata": {},
   "outputs": [],
   "source": [
    "values = []\n",
    "for i in range(iterations):\n",
    "    Expected_g = np.random.normal(np.mean(fundamentals['g']), np.std(fundamentals['g']), size = t_intervals)\n",
    "    simWACC = np.random.normal(WACC, WACC_std, size= t_intervals)\n",
    "    Reinvestment_rate = np.random.normal(np.mean(fundamentals['Reinvestment Rate']), np.std(fundamentals['Reinvestment Rate']), size = t_intervals)\n",
    "    tax = np.random.normal(np.mean(fundamentals['Effective Tax Rate']), np.std(fundamentals['Effective Tax Rate']), size = t_intervals)\n",
    "    change_in_working_capital = np.random.normal(np.mean(fundamentals['Change in Working Capital']), np.std(fundamentals['Change in Working Capital']), size = t_intervals)\n",
    "\n",
    "    TerMulSim = np.random.normal(Terminal_multiple, terminalChanges)\n",
    "\n",
    "    EBIT_E = []\n",
    "    a = EBIT[-1]\n",
    "    for i in range(t_intervals):\n",
    "        a *= (1 + Expected_g[i])\n",
    "        EBIT_E.append(a)\n",
    "\n",
    "    after_tax_EBIT = (EBIT_E * (1 - tax))\n",
    "\n",
    "    Capex_Dep = (after_tax_EBIT * Reinvestment_rate) - change_in_working_capital\n",
    "\n",
    "    FCFF = after_tax_EBIT - change_in_working_capital - Capex_Dep\n",
    "\n",
    "    discount_factor = []\n",
    "    for i in range(t_intervals):\n",
    "        if i == 0:\n",
    "            i = 1 + simWACC[i]\n",
    "            discount_factor.append(i)\n",
    "        else:\n",
    "            i = (1 + simWACC[i]) ** i\n",
    "            discount_factor.append(i)\n",
    "\n",
    "    PV = FCFF / discount_factor\n",
    "    terminalValue = (EBIT_E[-1] * TerMulSim)\n",
    "    PV_tV = terminalValue / ((1 + WACC) ** t_intervals)\n",
    "    equityValue = PV.sum() + PV_tV - BS['Net Debt'][-1]\n",
    "    sharesOutstanding = IS['Weighted Avg. Diluted Shares Out.'][-1]\n",
    "    v = equityValue / sharesOutstanding\n",
    "    values.append(v)\n",
    "\n"
   ]
  },
  {
   "cell_type": "code",
   "execution_count": 18,
   "metadata": {},
   "outputs": [
    {
     "data": {
      "text/plain": [
       "30.1"
      ]
     },
     "execution_count": 18,
     "metadata": {},
     "output_type": "execute_result"
    }
   ],
   "source": [
    "stock = round(market_data['Adj Close'][-1], 2)\n",
    "stock"
   ]
  },
  {
   "cell_type": "code",
   "execution_count": 19,
   "metadata": {},
   "outputs": [
    {
     "name": "stderr",
     "output_type": "stream",
     "text": [
      "<ipython-input-19-f9eed391a0c7>:8: UserWarning: FixedFormatter should only be used together with FixedLocator\n",
      "  sns.histplot(values, color='orange', label = 'Simulations').set_xticklabels(xlabels)\n"
     ]
    },
    {
     "data": {
      "image/png": "[encoded data removed]",
      "text/plain": [
       "<Figure size 576x576 with 1 Axes>"
      ]
     },
     "metadata": {},
     "output_type": "display_data"
    }
   ],
   "source": [
    "sns.set(rc={'figure.figsize':(8,8)})\n",
    "sns.set(font_scale = 1.25, font = 'Cambria')\n",
    "plt.axvline(x=stock, ymin=0,ymax=np.max(values), label = f'Current Price ${stock}', linewidth = 3, color = 'gray')\n",
    "plt.axvline(x=np.median(values), ymin=0,ymax=np.max(values), label = f'Median Value ${round(np.median(values),2)}',\n",
    "            linewidth = 3, color = 'purple')\n",
    "\n",
    "xlabels = ['{:,.2f}'.format(x) + '$' for x in sns.histplot(values).get_xticks()]\n",
    "sns.histplot(values, color='orange', label = 'Simulations').set_xticklabels(xlabels)\n",
    "plt.title(label = f\"Probabilistics valuation for {info[0][0]}\")\n",
    "plt.legend()\n",
    "plt.show()"
   ]
  },
  {
   "cell_type": "code",
   "execution_count": 20,
   "metadata": {},
   "outputs": [
    {
     "name": "stderr",
     "output_type": "stream",
     "text": [
      "<ipython-input-20-9ce9dff44003>:2: UserWarning: FixedFormatter should only be used together with FixedLocator\n",
      "  sns.ecdfplot(x=values, color = 'orange', label = 'Simulation CDF', linewidth = 4).set_xticklabels(xlabels)\n"
     ]
    },
    {
     "data": {
      "image/png": "[encoded data removed]",
      "text/plain": [
       "<Figure size 576x576 with 1 Axes>"
      ]
     },
     "metadata": {},
     "output_type": "display_data"
    }
   ],
   "source": [
    "xlabels = ['{:,.2f}'.format(x) + '$' for x in sns.ecdfplot(x=values).get_xticks()]\n",
    "sns.ecdfplot(x=values, color = 'orange', label = 'Simulation CDF', linewidth = 4).set_xticklabels(xlabels)\n",
    "plt.axvline(x=stock, ymin=0,ymax=np.max(values), label = f'Current Price ${stock}', linewidth = 3, color = 'gray')\n",
    "plt.axvline(x=np.median(values), ymin=0,ymax=np.max(values), label = f'Median Value ${round(np.median(values),2)}',\n",
    "            linewidth = 3, color = 'purple')\n",
    "plt.title(label = f\"Cumulative Distribution Function for {info[0][0]}\")\n",
    "\n",
    "plt.legend()\n",
    "plt.show()"
   ]
  },
  {
   "cell_type": "code",
   "execution_count": 21,
   "metadata": {},
   "outputs": [
    {
     "data": {
      "text/html": [
       "<div>\n",
       "<style scoped>\n",
       "    .dataframe tbody tr th:only-of-type {\n",
       "        vertical-align: middle;\n",
       "    }\n",
       "\n",
       "    .dataframe tbody tr th {\n",
       "        vertical-align: top;\n",
       "    }\n",
       "\n",
       "    .dataframe thead th {\n",
       "        text-align: right;\n",
       "    }\n",
       "</style>\n",
       "<table border=\"1\" class=\"dataframe\">\n",
       "  <thead>\n",
       "    <tr style=\"text-align: right;\">\n",
       "      <th></th>\n",
       "      <th>Values</th>\n",
       "    </tr>\n",
       "    <tr>\n",
       "      <th>Percentiles</th>\n",
       "      <th></th>\n",
       "    </tr>\n",
       "  </thead>\n",
       "  <tbody>\n",
       "    <tr>\n",
       "      <th>0%</th>\n",
       "      <td>11.715794</td>\n",
       "    </tr>\n",
       "    <tr>\n",
       "      <th>10%</th>\n",
       "      <td>22.482610</td>\n",
       "    </tr>\n",
       "    <tr>\n",
       "      <th>20%</th>\n",
       "      <td>24.283847</td>\n",
       "    </tr>\n",
       "    <tr>\n",
       "      <th>30%</th>\n",
       "      <td>25.590767</td>\n",
       "    </tr>\n",
       "    <tr>\n",
       "      <th>40%</th>\n",
       "      <td>26.738328</td>\n",
       "    </tr>\n",
       "    <tr>\n",
       "      <th>50%</th>\n",
       "      <td>27.818650</td>\n",
       "    </tr>\n",
       "    <tr>\n",
       "      <th>60%</th>\n",
       "      <td>28.891029</td>\n",
       "    </tr>\n",
       "    <tr>\n",
       "      <th>70%</th>\n",
       "      <td>30.086906</td>\n",
       "    </tr>\n",
       "    <tr>\n",
       "      <th>80%</th>\n",
       "      <td>31.499046</td>\n",
       "    </tr>\n",
       "    <tr>\n",
       "      <th>90%</th>\n",
       "      <td>33.490165</td>\n",
       "    </tr>\n",
       "    <tr>\n",
       "      <th>100%</th>\n",
       "      <td>53.511930</td>\n",
       "    </tr>\n",
       "  </tbody>\n",
       "</table>\n",
       "</div>"
      ],
      "text/plain": [
       "                Values\n",
       "Percentiles           \n",
       "0%           11.715794\n",
       "10%          22.482610\n",
       "20%          24.283847\n",
       "30%          25.590767\n",
       "40%          26.738328\n",
       "50%          27.818650\n",
       "60%          28.891029\n",
       "70%          30.086906\n",
       "80%          31.499046\n",
       "90%          33.490165\n",
       "100%         53.511930"
      ]
     },
     "execution_count": 21,
     "metadata": {},
     "output_type": "execute_result"
    }
   ],
   "source": [
    "Percentile_table = pd.DataFrame(data = [np.percentile(values, 0), np.percentile(values, 10), np.percentile(values, 20),\n",
    "                                       np.percentile(values, 30), np.percentile(values, 40), np.percentile(values, 50),\n",
    "                                       np.percentile(values, 60), np.percentile(values, 70), np.percentile(values, 80),\n",
    "                                       np.percentile(values, 90), np.percentile(values, 100)],\n",
    "                               index = ['0%', '10%', '20%', '30%', '40%', '50%', '60%', '70%', '80%', '90%', '100%'],\n",
    "                               columns = ['Values'])\n",
    "\n",
    "Percentile_table.index.name = 'Percentiles'\n",
    "Percentile_table"
   ]
  },
  {
   "cell_type": "code",
   "execution_count": 22,
   "metadata": {},
   "outputs": [
    {
     "data": {
      "text/html": [
       "<div>\n",
       "<style scoped>\n",
       "    .dataframe tbody tr th:only-of-type {\n",
       "        vertical-align: middle;\n",
       "    }\n",
       "\n",
       "    .dataframe tbody tr th {\n",
       "        vertical-align: top;\n",
       "    }\n",
       "\n",
       "    .dataframe thead th {\n",
       "        text-align: right;\n",
       "    }\n",
       "</style>\n",
       "<table border=\"1\" class=\"dataframe\">\n",
       "  <thead>\n",
       "    <tr style=\"text-align: right;\">\n",
       "      <th></th>\n",
       "      <th>time</th>\n",
       "      <th>Worst Case</th>\n",
       "      <th>Base Case</th>\n",
       "      <th>Best Case</th>\n",
       "      <th>Market Price</th>\n",
       "      <th>VWAP</th>\n",
       "    </tr>\n",
       "    <tr>\n",
       "      <th>Ticker</th>\n",
       "      <th></th>\n",
       "      <th></th>\n",
       "      <th></th>\n",
       "      <th></th>\n",
       "      <th></th>\n",
       "      <th></th>\n",
       "    </tr>\n",
       "  </thead>\n",
       "  <tbody>\n",
       "    <tr>\n",
       "      <th>SAP.TO</th>\n",
       "      <td>2021-11-23 13:39:31.696154</td>\n",
       "      <td>23.621501</td>\n",
       "      <td>27.920291</td>\n",
       "      <td>32.219081</td>\n",
       "      <td>30.1</td>\n",
       "      <td>35.35</td>\n",
       "    </tr>\n",
       "  </tbody>\n",
       "</table>\n",
       "</div>"
      ],
      "text/plain": [
       "                             time Worst Case  Base Case  Best Case  \\\n",
       "Ticker                                                               \n",
       "SAP.TO 2021-11-23 13:39:31.696154  23.621501  27.920291  32.219081   \n",
       "\n",
       "       Market Price   VWAP  \n",
       "Ticker                      \n",
       "SAP.TO         30.1  35.35  "
      ]
     },
     "execution_count": 22,
     "metadata": {},
     "output_type": "execute_result"
    }
   ],
   "source": [
    "valuation = pd.DataFrame(data = [datetime.datetime.now(),np.array(values).mean() - np.array(values).std(), \n",
    "                                np.array(values).mean(),\n",
    "                                np.array(values).mean() + np.array(values).std(),\n",
    "                                stock, vwap],\n",
    "                        index = ['time','Worst Case', 'Base Case','Best Case', 'Market Price', 'VWAP'],\n",
    "                        columns = tickers).T\n",
    "valuation.index.name = 'Ticker'\n",
    "valuation.to_csv('valuation.csv', mode = 'a')\n",
    "valuation.round(2)"
   ]
  },
  {
   "cell_type": "code",
   "execution_count": 23,
   "metadata": {},
   "outputs": [],
   "source": [
    "valu = pd.DataFrame(data = values, columns = tickers)"
   ]
  },
  {
   "cell_type": "code",
   "execution_count": 24,
   "metadata": {},
   "outputs": [
    {
     "data": {
      "text/plain": [
       "<matplotlib.legend.Legend at 0x1ee4c1d6670>"
      ]
     },
     "execution_count": 24,
     "metadata": {},
     "output_type": "execute_result"
    },
    {
     "data": {
      "image/png": "[encoded data removed]",
      "text/plain": [
       "<Figure size 720x216 with 1 Axes>"
      ]
     },
     "metadata": {},
     "output_type": "display_data"
    }
   ],
   "source": [
    "sns.set(rc={'figure.figsize':(10,3)})\n",
    "sns.set_theme(style = 'whitegrid')\n",
    "sns.boxplot(data = valu, orient='h', color = 'orange', width = 0.5)\n",
    "\n",
    "plt.axvline(x=vwap, ymin=0,ymax=np.max(values), label = f'VWAP ${vwap}', linewidth = 3, color = 'brown')\n",
    "plt.axvline(x=stock, ymin=0,ymax=np.max(values), label = f'Current Price ${stock}', linewidth = 3, color = 'gray')\n",
    "plt.axvline(x=np.median(values), ymin=0,ymax=np.max(values), label = f'Median Value ${round(np.median(values),2)}',\n",
    "            linewidth = 3, color = 'purple')\n",
    "plt.legend(loc = 'upper left')"
   ]
  },
  {
   "cell_type": "code",
   "execution_count": 25,
   "metadata": {},
   "outputs": [
    {
     "data": {
      "text/html": [
       "<div>\n",
       "<style scoped>\n",
       "    .dataframe tbody tr th:only-of-type {\n",
       "        vertical-align: middle;\n",
       "    }\n",
       "\n",
       "    .dataframe tbody tr th {\n",
       "        vertical-align: top;\n",
       "    }\n",
       "\n",
       "    .dataframe thead th {\n",
       "        text-align: right;\n",
       "    }\n",
       "</style>\n",
       "<table border=\"1\" class=\"dataframe\">\n",
       "  <thead>\n",
       "    <tr style=\"text-align: right;\">\n",
       "      <th></th>\n",
       "      <th>Reinvestment Rate</th>\n",
       "      <th>Expected Growth</th>\n",
       "      <th>Tax</th>\n",
       "      <th>EBIT</th>\n",
       "      <th>EBIT(1-t)</th>\n",
       "      <th>Change in Working Capital</th>\n",
       "      <th>Capex - Depreciation</th>\n",
       "      <th>FCFF</th>\n",
       "      <th>WACC</th>\n",
       "      <th>Discount Factor</th>\n",
       "      <th>PV</th>\n",
       "    </tr>\n",
       "  </thead>\n",
       "  <tbody>\n",
       "    <tr>\n",
       "      <th>0</th>\n",
       "      <td>0.518099</td>\n",
       "      <td>0.028388</td>\n",
       "      <td>0.231077</td>\n",
       "      <td>990.646516</td>\n",
       "      <td>761.730916</td>\n",
       "      <td>245.730262</td>\n",
       "      <td>148.921462</td>\n",
       "      <td>367.079191</td>\n",
       "      <td>0.085488</td>\n",
       "      <td>1.085488</td>\n",
       "      <td>338.169825</td>\n",
       "    </tr>\n",
       "    <tr>\n",
       "      <th>1</th>\n",
       "      <td>0.174396</td>\n",
       "      <td>0.035595</td>\n",
       "      <td>0.197679</td>\n",
       "      <td>1025.908686</td>\n",
       "      <td>823.107717</td>\n",
       "      <td>191.888040</td>\n",
       "      <td>-48.341425</td>\n",
       "      <td>679.561102</td>\n",
       "      <td>0.073313</td>\n",
       "      <td>1.073313</td>\n",
       "      <td>633.143328</td>\n",
       "    </tr>\n",
       "    <tr>\n",
       "      <th>2</th>\n",
       "      <td>0.183356</td>\n",
       "      <td>0.004277</td>\n",
       "      <td>0.266331</td>\n",
       "      <td>1030.296288</td>\n",
       "      <td>755.896384</td>\n",
       "      <td>131.369442</td>\n",
       "      <td>7.228983</td>\n",
       "      <td>617.297959</td>\n",
       "      <td>0.068548</td>\n",
       "      <td>1.141796</td>\n",
       "      <td>540.637789</td>\n",
       "    </tr>\n",
       "    <tr>\n",
       "      <th>3</th>\n",
       "      <td>0.491206</td>\n",
       "      <td>0.022024</td>\n",
       "      <td>0.343397</td>\n",
       "      <td>1052.987581</td>\n",
       "      <td>691.395179</td>\n",
       "      <td>110.819605</td>\n",
       "      <td>228.797576</td>\n",
       "      <td>351.777999</td>\n",
       "      <td>0.083744</td>\n",
       "      <td>1.272857</td>\n",
       "      <td>276.368890</td>\n",
       "    </tr>\n",
       "    <tr>\n",
       "      <th>4</th>\n",
       "      <td>0.349159</td>\n",
       "      <td>0.037900</td>\n",
       "      <td>0.263114</td>\n",
       "      <td>1092.895557</td>\n",
       "      <td>805.339400</td>\n",
       "      <td>373.562296</td>\n",
       "      <td>-92.370839</td>\n",
       "      <td>524.147943</td>\n",
       "      <td>0.088422</td>\n",
       "      <td>1.403427</td>\n",
       "      <td>373.477196</td>\n",
       "    </tr>\n",
       "    <tr>\n",
       "      <th>5</th>\n",
       "      <td>-0.207819</td>\n",
       "      <td>0.001105</td>\n",
       "      <td>0.249282</td>\n",
       "      <td>1094.102773</td>\n",
       "      <td>821.362521</td>\n",
       "      <td>286.515167</td>\n",
       "      <td>-457.209765</td>\n",
       "      <td>992.057119</td>\n",
       "      <td>0.044673</td>\n",
       "      <td>1.244234</td>\n",
       "      <td>797.323721</td>\n",
       "    </tr>\n",
       "    <tr>\n",
       "      <th>6</th>\n",
       "      <td>0.202786</td>\n",
       "      <td>0.028257</td>\n",
       "      <td>0.316605</td>\n",
       "      <td>1125.018302</td>\n",
       "      <td>768.831440</td>\n",
       "      <td>123.012017</td>\n",
       "      <td>32.896563</td>\n",
       "      <td>612.922860</td>\n",
       "      <td>0.034965</td>\n",
       "      <td>1.229005</td>\n",
       "      <td>498.714724</td>\n",
       "    </tr>\n",
       "    <tr>\n",
       "      <th>7</th>\n",
       "      <td>0.051187</td>\n",
       "      <td>0.038721</td>\n",
       "      <td>0.295899</td>\n",
       "      <td>1168.579603</td>\n",
       "      <td>822.798246</td>\n",
       "      <td>40.582567</td>\n",
       "      <td>1.533765</td>\n",
       "      <td>780.681914</td>\n",
       "      <td>0.044831</td>\n",
       "      <td>1.359322</td>\n",
       "      <td>574.317085</td>\n",
       "    </tr>\n",
       "    <tr>\n",
       "      <th>8</th>\n",
       "      <td>0.317634</td>\n",
       "      <td>0.043210</td>\n",
       "      <td>0.362841</td>\n",
       "      <td>1219.074481</td>\n",
       "      <td>776.744177</td>\n",
       "      <td>284.506989</td>\n",
       "      <td>-37.786758</td>\n",
       "      <td>530.023947</td>\n",
       "      <td>0.063419</td>\n",
       "      <td>1.635445</td>\n",
       "      <td>324.085449</td>\n",
       "    </tr>\n",
       "    <tr>\n",
       "      <th>9</th>\n",
       "      <td>0.446054</td>\n",
       "      <td>0.002748</td>\n",
       "      <td>0.215802</td>\n",
       "      <td>1222.424250</td>\n",
       "      <td>958.622397</td>\n",
       "      <td>283.704608</td>\n",
       "      <td>143.892572</td>\n",
       "      <td>531.025217</td>\n",
       "      <td>0.056466</td>\n",
       "      <td>1.639452</td>\n",
       "      <td>323.904030</td>\n",
       "    </tr>\n",
       "  </tbody>\n",
       "</table>\n",
       "</div>"
      ],
      "text/plain": [
       "   Reinvestment Rate  Expected Growth       Tax         EBIT   EBIT(1-t)  \\\n",
       "0           0.518099         0.028388  0.231077   990.646516  761.730916   \n",
       "1           0.174396         0.035595  0.197679  1025.908686  823.107717   \n",
       "2           0.183356         0.004277  0.266331  1030.296288  755.896384   \n",
       "3           0.491206         0.022024  0.343397  1052.987581  691.395179   \n",
       "4           0.349159         0.037900  0.263114  1092.895557  805.339400   \n",
       "5          -0.207819         0.001105  0.249282  1094.102773  821.362521   \n",
       "6           0.202786         0.028257  0.316605  1125.018302  768.831440   \n",
       "7           0.051187         0.038721  0.295899  1168.579603  822.798246   \n",
       "8           0.317634         0.043210  0.362841  1219.074481  776.744177   \n",
       "9           0.446054         0.002748  0.215802  1222.424250  958.622397   \n",
       "\n",
       "   Change in Working Capital  Capex - Depreciation        FCFF      WACC  \\\n",
       "0                 245.730262            148.921462  367.079191  0.085488   \n",
       "1                 191.888040            -48.341425  679.561102  0.073313   \n",
       "2                 131.369442              7.228983  617.297959  0.068548   \n",
       "3                 110.819605            228.797576  351.777999  0.083744   \n",
       "4                 373.562296            -92.370839  524.147943  0.088422   \n",
       "5                 286.515167           -457.209765  992.057119  0.044673   \n",
       "6                 123.012017             32.896563  612.922860  0.034965   \n",
       "7                  40.582567              1.533765  780.681914  0.044831   \n",
       "8                 284.506989            -37.786758  530.023947  0.063419   \n",
       "9                 283.704608            143.892572  531.025217  0.056466   \n",
       "\n",
       "   Discount Factor          PV  \n",
       "0         1.085488  338.169825  \n",
       "1         1.073313  633.143328  \n",
       "2         1.141796  540.637789  \n",
       "3         1.272857  276.368890  \n",
       "4         1.403427  373.477196  \n",
       "5         1.244234  797.323721  \n",
       "6         1.229005  498.714724  \n",
       "7         1.359322  574.317085  \n",
       "8         1.635445  324.085449  \n",
       "9         1.639452  323.904030  "
      ]
     },
     "execution_count": 25,
     "metadata": {},
     "output_type": "execute_result"
    }
   ],
   "source": [
    "fcf_table = pd.DataFrame(data = [Reinvestment_rate, Expected_g, tax,\n",
    "                                 EBIT_E, after_tax_EBIT, change_in_working_capital,\n",
    "                                 Capex_Dep, FCFF, simWACC, discount_factor,PV],\n",
    "                         index = ['Reinvestment Rate', 'Expected Growth',\n",
    "                                   'Tax','EBIT','EBIT(1-t)',\n",
    "                                  'Change in Working Capital', 'Capex - Depreciation',\n",
    "                                  'FCFF', 'WACC','Discount Factor','PV']).T\n",
    "fcf_table"
   ]
  },
  {
   "cell_type": "code",
   "execution_count": 26,
   "metadata": {},
   "outputs": [
    {
     "data": {
      "text/plain": [
       "<matplotlib.legend.Legend at 0x1ee4c2b56a0>"
      ]
     },
     "execution_count": 26,
     "metadata": {},
     "output_type": "execute_result"
    },
    {
     "data": {
      "image/png": "[encoded data removed]",
      "text/plain": [
       "<Figure size 720x216 with 1 Axes>"
      ]
     },
     "metadata": {},
     "output_type": "display_data"
    }
   ],
   "source": [
    "plt.plot(EBIT_E,label = 'EBIT')\n",
    "plt.plot(after_tax_EBIT, label = 'After tax EBIT')\n",
    "plt.legend()"
   ]
  },
  {
   "cell_type": "code",
   "execution_count": 27,
   "metadata": {},
   "outputs": [
    {
     "name": "stderr",
     "output_type": "stream",
     "text": [
      "C:\\Users\\nemat\\AppData\\Roaming\\Python\\Python38\\site-packages\\pypfopt\\expected_returns.py:119: RuntimeWarning: prices are not in a dataframe\n",
      "  warnings.warn(\"prices are not in a dataframe\", RuntimeWarning)\n",
      "C:\\Users\\nemat\\AppData\\Roaming\\Python\\Python38\\site-packages\\pypfopt\\risk_models.py:165: RuntimeWarning: data is not in a dataframe\n",
      "  warnings.warn(\"data is not in a dataframe\", RuntimeWarning)\n"
     ]
    },
    {
     "data": {
      "text/html": [
       "<div>\n",
       "<style scoped>\n",
       "    .dataframe tbody tr th:only-of-type {\n",
       "        vertical-align: middle;\n",
       "    }\n",
       "\n",
       "    .dataframe tbody tr th {\n",
       "        vertical-align: top;\n",
       "    }\n",
       "\n",
       "    .dataframe thead th {\n",
       "        text-align: right;\n",
       "    }\n",
       "</style>\n",
       "<table border=\"1\" class=\"dataframe\">\n",
       "  <thead>\n",
       "    <tr style=\"text-align: right;\">\n",
       "      <th></th>\n",
       "      <th>SAP.TO</th>\n",
       "    </tr>\n",
       "  </thead>\n",
       "  <tbody>\n",
       "    <tr>\n",
       "      <th>Mean</th>\n",
       "      <td>0.126456</td>\n",
       "    </tr>\n",
       "    <tr>\n",
       "      <th>StDev</th>\n",
       "      <td>0.063603</td>\n",
       "    </tr>\n",
       "  </tbody>\n",
       "</table>\n",
       "</div>"
      ],
      "text/plain": [
       "         SAP.TO\n",
       "Mean   0.126456\n",
       "StDev  0.063603"
      ]
     },
     "execution_count": 27,
     "metadata": {},
     "output_type": "execute_result"
    }
   ],
   "source": [
    "s = market_data['Adj Close']\n",
    "returns = ppo.expected_returns.mean_historical_return(s.values)\n",
    "stdev = ppo.risk_models.risk_matrix(s, method='sample_cov')\n",
    "# np.std(s.pct_change())\n",
    "stats = pd.DataFrame(data = [returns.values[0], stdev.values[0][0]],\n",
    "             index = ['Mean', 'StDev'], columns = tickers)\n",
    "stats\n"
   ]
  },
  {
   "cell_type": "code",
   "execution_count": 28,
   "metadata": {},
   "outputs": [
    {
     "data": {
      "text/plain": [
       "Text(0, 0.5, 'Cumulative Returns')"
      ]
     },
     "execution_count": 28,
     "metadata": {},
     "output_type": "execute_result"
    },
    {
     "data": {
      "image/png": "[encoded data removed]",
      "text/plain": [
       "<Figure size 720x216 with 1 Axes>"
      ]
     },
     "metadata": {},
     "output_type": "display_data"
    }
   ],
   "source": [
    "plt.plot((1 + s.pct_change()).cumprod() - 1, color = 'y')\n",
    "plt.xlabel('Date')\n",
    "plt.ylabel('Cumulative Returns')"
   ]
  },
  {
   "cell_type": "code",
   "execution_count": 29,
   "metadata": {},
   "outputs": [
    {
     "data": {
      "text/plain": [
       "Text(0, 0.5, 'Close Price')"
      ]
     },
     "execution_count": 29,
     "metadata": {},
     "output_type": "execute_result"
    },
    {
     "data": {
      "image/png": "[encoded data removed]",
      "text/plain": [
       "<Figure size 720x216 with 1 Axes>"
      ]
     },
     "metadata": {},
     "output_type": "display_data"
    }
   ],
   "source": [
    "plt.plot(market_data['Close'][-(252):])\n",
    "plt.xlabel('Date')\n",
    "plt.ylabel('Close Price')"
   ]
  },
  {
   "cell_type": "code",
   "execution_count": null,
   "metadata": {},
   "outputs": [],
   "source": []
  }
 ],
 "metadata": {
  "kernelspec": {
   "display_name": "Python 3",
   "language": "python",
   "name": "python3"
  },
  "language_info": {
   "codemirror_mode": {
    "name": "ipython",
    "version": 3
   },
   "file_extension": ".py",
   "mimetype": "text/x-python",
   "name": "python",
   "nbconvert_exporter": "python",
   "pygments_lexer": "ipython3",
   "version": "3.8.8"
  }
 },
 "nbformat": 4,
 "nbformat_minor": 4
}
