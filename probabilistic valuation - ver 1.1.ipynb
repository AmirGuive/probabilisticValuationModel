{
 "cells": [
  {
   "cell_type": "code",
   "execution_count": 1,
   "metadata": {},
   "outputs": [],
   "source": [
    "import pandas as pd\n",
    "import numpy as np\n",
    "import re\n",
    "import datetime\n",
    "import matplotlib.pyplot as plt\n",
    "import yfinance as yf\n",
    "import math\n",
    "import seaborn as sns\n",
    "from matplotlib import rc\n",
    "import matplotlib.ticker as ticker\n",
    "from dataclasses import dataclass\n",
    "from scipy.stats import norm\n",
    "from scipy import stats\n",
    "import pypfopt as ppo\n",
    "\n",
    "%matplotlib inline"
   ]
  },
  {
   "cell_type": "markdown",
   "metadata": {},
   "source": [
    "# Setting the Context\n",
    "## Probabilistic DCF valuation\n",
    "\n",
    "To calculate the Free Cash Flow to Firm we use the below equation:\n",
    "\n",
    "<img src=\"https://latex.codecogs.com/gif.latex?FCFF&space;=&space;EBIT&space;\\times&space;\\left&space;(&space;1&space;-&space;Effective\\;Tax\\;Rate\\right&space;)\\;&space;&plus;\\;&space;Working\\;Capital\\;Changes&space;&plus;\\;Capital\\;Expenditure&space;-&space;Depreciation\\;and\\;Amortization\\;\" title=\"FCFF = EBIT \\times \\left ( 1 - Effective\\;Tax\\;Rate\\right )\\; +\\; Working\\;Capital\\;Changes +\\;Capital\\;Expenditure - Depreciation\\;and\\;Amortization\\;\" />\n",
    "\n",
    "To forecast the FCFF we need to forecast each element in the above equiation, and for do it automatically we need to introduce proxies for each item:\n",
    "\n",
    "<img src=\"https://latex.codecogs.com/gif.latex?Reinvestment\\;Rate&space;=&space;\\;&space;\\frac{CapEx\\;-\\;&space;Dep.\\;and\\;Amort.\\;&plus;\\;Changes&space;\\;in\\;WC}{EBIT\\;&space;\\times\\;&space;(1\\;&space;-\\;&space;Eff.\\;&space;Tax\\;&space;Rate)}\" title=\"Reinvestment\\;Rate = \\; \\frac{CapEx\\;-\\; Dep.\\;and\\;Amort.\\;+\\;Changes \\;in\\;WC}{EBIT\\; \\times\\; (1\\; -\\; Eff.\\; Tax\\; Rate)}\" />\n",
    "\n",
    "\n",
    "<img src=\"https://latex.codecogs.com/gif.latex?Return\\;on\\;Capital&space;=&space;\\frac{EBIT\\;&space;\\times\\;&space;(1\\;&space;-\\;&space;Eff.\\;&space;Tax\\;&space;Rate)}{Total\\;Debt\\;&plus;\\;Total\\;Equity}\" title=\"Return\\;on\\;Capital = \\frac{EBIT\\; \\times\\; (1\\; -\\; Eff.\\; Tax\\; Rate)}{Total\\;Debt\\;+\\;Total\\;Equity}\" />\n",
    "\n",
    "and the internal growth rate will be : \n",
    "\n",
    "<img src=\"https://latex.codecogs.com/gif.latex?g\\;=\\;&space;Reinvestment\\;Rate\\;&space;\\times\\;&space;ROC\" title=\"g\\;=\\; Reinvestment\\;Rate\\; \\times\\; ROC\" />\n",
    "\n",
    "first we need to extract the historical data for each proxy and we will assume that the future rates will oscillate around the historical mean and standard deviation. \n",
    "\n",
    "\n",
    "### Resources\n",
    "https://www.youtube.com/watch?v=8gYT3Xgs6NE \\\n",
    "https://pages.stern.nyu.edu/~adamodar/ \\\n",
    "https://papers.ssrn.com/sol3/papers.cfm?abstract_id=3237778\n"
   ]
  },
  {
   "cell_type": "markdown",
   "metadata": {},
   "source": [
    "# Loading Data"
   ]
  },
  {
   "cell_type": "code",
   "execution_count": 2,
   "metadata": {
    "scrolled": false
   },
   "outputs": [
    {
     "name": "stdout",
     "output_type": "stream",
     "text": [
      "WARNING *** file size (358410) not 512 + multiple of sector size (512)\n",
      "WARNING *** file size (358410) not 512 + multiple of sector size (512)\n",
      "WARNING *** file size (358410) not 512 + multiple of sector size (512)\n"
     ]
    }
   ],
   "source": [
    "path = 'C:\\\\Users\\\\nemat\\\\Desktop\\\\Master Folder\\\\Buffet in the box contd\\\\auto_examples_jupyter\\\\Saputo Inc TSX SAP Financials.xls'\n",
    "\n",
    "\n",
    "inc_df = pd.read_excel(path,\n",
    "                      sheet_name='Income Statement', skiprows=14, index_col=0)\n",
    "bs_df = pd.read_excel(path,\n",
    "                         sheet_name='Balance Sheet', skiprows=14,index_col=0)\n",
    "cf_df = pd.read_excel(path,\n",
    "                         sheet_name='Cash Flow', skiprows=14,index_col=0)"
   ]
  },
  {
   "cell_type": "markdown",
   "metadata": {},
   "source": [
    "# Data cleaning and calculation functions "
   ]
  },
  {
   "cell_type": "code",
   "execution_count": 3,
   "metadata": {},
   "outputs": [],
   "source": [
    "def StatementParser(df):\n",
    "    date={}\n",
    "    for i in range(len(df.columns)):\n",
    "        if type(df.columns[i]) is str:\n",
    "            match = re.search(r'\\w{3}-\\d{2}-\\d{4}', str(df.columns[i]))\n",
    "            date[str(df.columns[i])] = datetime.datetime.strptime(match.group(), '%b-%d-%Y').date()\n",
    "        else:\n",
    "            match = re.search(r'\\d{4}-\\d{2}-\\d{2}', str(df.columns[i]))\n",
    "            date[str(df.columns[i])] = datetime.datetime.strptime(match.group(), '%Y-%m-%d').date()\n",
    "    df.rename(columns = date, inplace = True)\n",
    "    df.replace(to_replace='-', value= 0 , inplace=True)\n",
    "    df.dropna(how = 'all', inplace = True)\n",
    "    df.drop('Currency', inplace = True)\n",
    "    \n",
    "    df = df.T\n",
    "    df['Date'] = df.index\n",
    "    df.set_index(df['Date'], inplace = True)\n",
    "    df.drop('Date', axis=1, inplace = True)\n",
    "    \n",
    "    col={}\n",
    "    for i in range(len(df.columns)):\n",
    "        col[str(df.columns[i])] = str(str(df.columns[i]).lstrip())\n",
    "    df.rename(columns = col, inplace = True)\n",
    "    \n",
    "    if df.index[-1].month != df.index[0].month:\n",
    "        df.drop(df.tail(1).index , inplace=True)\n",
    "    else:\n",
    "        pass\n",
    "\n",
    "   \n",
    "    return df"
   ]
  },
  {
   "cell_type": "code",
   "execution_count": 4,
   "metadata": {},
   "outputs": [],
   "source": [
    "IS = StatementParser(inc_df)"
   ]
  },
  {
   "cell_type": "code",
   "execution_count": 5,
   "metadata": {},
   "outputs": [],
   "source": [
    "BS = StatementParser(bs_df)"
   ]
  },
  {
   "cell_type": "code",
   "execution_count": 6,
   "metadata": {},
   "outputs": [],
   "source": [
    "CF = StatementParser(cf_df)"
   ]
  },
  {
   "cell_type": "markdown",
   "metadata": {},
   "source": [
    "# Looking at the Capital Structure"
   ]
  },
  {
   "cell_type": "code",
   "execution_count": 7,
   "metadata": {},
   "outputs": [
    {
     "data": {
      "image/png": "[encoded data removed]",
      "text/plain": [
       "<Figure size 576x288 with 1 Axes>"
      ]
     },
     "metadata": {
      "needs_background": "light"
     },
     "output_type": "display_data"
    }
   ],
   "source": [
    "plt.figure(figsize=(8,4))\n",
    "rc('font', weight = 'bold')\n",
    "bars2 = BS['Total Debt']\n",
    "bars1 = BS['Total Equity']\n",
    "\n",
    "bars = np.add(bars1, bars2).tolist()\n",
    "\n",
    "r = range(len(bars1))\n",
    " \n",
    "names = BS.index.year\n",
    "barWidth = 0.75\n",
    "\n",
    "plt.bar(r, bars1, color='orange', edgecolor='white', width=barWidth, label = 'Total Equity')\n",
    "plt.bar(r, bars2, bottom=bars1, color='green', edgecolor='white', width=barWidth, label = 'Total Debt')\n",
    "\n",
    "plt.xticks(r, names, fontweight='bold')\n",
    "plt.title(\"Capital Structure\")\n",
    "plt.legend()\n",
    "plt.show()"
   ]
  },
  {
   "cell_type": "code",
   "execution_count": 8,
   "metadata": {},
   "outputs": [
    {
     "data": {
      "image/png": "[encoded data removed]",
      "text/plain": [
       "<Figure size 576x288 with 1 Axes>"
      ]
     },
     "metadata": {
      "needs_background": "light"
     },
     "output_type": "display_data"
    }
   ],
   "source": [
    "plt.figure(figsize=(8,4))\n",
    "# Data\n",
    "# r = []\n",
    "raw_data = {'greenBars': BS['Total Debt'], 'orangeBars': BS['Total Equity']}\n",
    "df = pd.DataFrame(raw_data)\n",
    " \n",
    "# From raw value to percentage\n",
    "totals = [i+j for i,j in zip(df['greenBars'], df['orangeBars'])]\n",
    "greenBars = [i / j * 100 for i,j in zip(df['greenBars'], totals)]\n",
    "orangeBars = [i / j * 100 for i,j in zip(df['orangeBars'], totals)]\n",
    " \n",
    "# plot\n",
    "barWidth = 0.75\n",
    "# names = ()\n",
    "# Create orange Bars (Equity)\n",
    "plt.bar(r, orangeBars, color='orange', edgecolor='white', width=barWidth, label = 'Total Equity')\n",
    "# Create green Bars (Debt)\n",
    "plt.bar(r, greenBars, bottom=orangeBars, color='green', edgecolor='white', width=barWidth, label = 'Total Debt')\n",
    " \n",
    "# Custom x axis\n",
    "plt.xticks(r, names)\n",
    "plt.title('Capital Structure')\n",
    " \n",
    "# Show graphic\n",
    "plt.legend(loc = 'upper right')\n",
    "plt.show()\n"
   ]
  },
  {
   "cell_type": "markdown",
   "metadata": {},
   "source": [
    "# Calculating the Fundamentals"
   ]
  },
  {
   "cell_type": "code",
   "execution_count": 9,
   "metadata": {},
   "outputs": [
    {
     "data": {
      "text/html": [
       "<div>\n",
       "<style scoped>\n",
       "    .dataframe tbody tr th:only-of-type {\n",
       "        vertical-align: middle;\n",
       "    }\n",
       "\n",
       "    .dataframe tbody tr th {\n",
       "        vertical-align: top;\n",
       "    }\n",
       "\n",
       "    .dataframe thead th {\n",
       "        text-align: right;\n",
       "    }\n",
       "</style>\n",
       "<table border=\"1\" class=\"dataframe\">\n",
       "  <thead>\n",
       "    <tr style=\"text-align: right;\">\n",
       "      <th></th>\n",
       "      <th>Change in Working Capital</th>\n",
       "      <th>Effective Tax Rate</th>\n",
       "      <th>Capex</th>\n",
       "      <th>Depreciation</th>\n",
       "      <th>EBIT</th>\n",
       "      <th>EBIT (1-t)</th>\n",
       "      <th>Reinvestment Rate</th>\n",
       "      <th>ROC</th>\n",
       "      <th>g</th>\n",
       "    </tr>\n",
       "    <tr>\n",
       "      <th>Date</th>\n",
       "      <th></th>\n",
       "      <th></th>\n",
       "      <th></th>\n",
       "      <th></th>\n",
       "      <th></th>\n",
       "      <th></th>\n",
       "      <th></th>\n",
       "      <th></th>\n",
       "      <th></th>\n",
       "    </tr>\n",
       "  </thead>\n",
       "  <tbody>\n",
       "    <tr>\n",
       "      <th>2012-03-31</th>\n",
       "      <td>105.370</td>\n",
       "      <td>0.342629</td>\n",
       "      <td>118.6</td>\n",
       "      <td>101.943</td>\n",
       "      <td>728.988</td>\n",
       "      <td>479.215571</td>\n",
       "      <td>0.254639</td>\n",
       "      <td>0.180687</td>\n",
       "      <td>0.046010</td>\n",
       "    </tr>\n",
       "    <tr>\n",
       "      <th>2013-03-31</th>\n",
       "      <td>57.480</td>\n",
       "      <td>0.278309</td>\n",
       "      <td>178.2</td>\n",
       "      <td>116.629</td>\n",
       "      <td>744.143</td>\n",
       "      <td>537.041306</td>\n",
       "      <td>0.221679</td>\n",
       "      <td>0.132906</td>\n",
       "      <td>0.029462</td>\n",
       "    </tr>\n",
       "    <tr>\n",
       "      <th>2014-03-31</th>\n",
       "      <td>258.075</td>\n",
       "      <td>0.296478</td>\n",
       "      <td>223.6</td>\n",
       "      <td>146.607</td>\n",
       "      <td>873.738</td>\n",
       "      <td>614.693905</td>\n",
       "      <td>0.545097</td>\n",
       "      <td>0.124402</td>\n",
       "      <td>0.067811</td>\n",
       "    </tr>\n",
       "    <tr>\n",
       "      <th>2015-03-31</th>\n",
       "      <td>98.328</td>\n",
       "      <td>0.278856</td>\n",
       "      <td>186.9</td>\n",
       "      <td>170.900</td>\n",
       "      <td>890.800</td>\n",
       "      <td>642.395075</td>\n",
       "      <td>0.177971</td>\n",
       "      <td>0.119486</td>\n",
       "      <td>0.021265</td>\n",
       "    </tr>\n",
       "    <tr>\n",
       "      <th>2016-03-31</th>\n",
       "      <td>144.400</td>\n",
       "      <td>0.309449</td>\n",
       "      <td>183.5</td>\n",
       "      <td>198.600</td>\n",
       "      <td>975.500</td>\n",
       "      <td>673.632500</td>\n",
       "      <td>0.191944</td>\n",
       "      <td>0.118156</td>\n",
       "      <td>0.022679</td>\n",
       "    </tr>\n",
       "    <tr>\n",
       "      <th>2017-03-31</th>\n",
       "      <td>-47.400</td>\n",
       "      <td>0.297221</td>\n",
       "      <td>236.7</td>\n",
       "      <td>206.100</td>\n",
       "      <td>1082.200</td>\n",
       "      <td>760.547434</td>\n",
       "      <td>-0.022089</td>\n",
       "      <td>0.128543</td>\n",
       "      <td>-0.002839</td>\n",
       "    </tr>\n",
       "    <tr>\n",
       "      <th>2018-03-31</th>\n",
       "      <td>174.700</td>\n",
       "      <td>0.102537</td>\n",
       "      <td>277.8</td>\n",
       "      <td>219.800</td>\n",
       "      <td>1038.400</td>\n",
       "      <td>931.925579</td>\n",
       "      <td>0.249698</td>\n",
       "      <td>0.145243</td>\n",
       "      <td>0.036267</td>\n",
       "    </tr>\n",
       "    <tr>\n",
       "      <th>2019-03-31</th>\n",
       "      <td>337.300</td>\n",
       "      <td>0.233664</td>\n",
       "      <td>370.5</td>\n",
       "      <td>286.000</td>\n",
       "      <td>908.300</td>\n",
       "      <td>696.062989</td>\n",
       "      <td>0.605980</td>\n",
       "      <td>0.089031</td>\n",
       "      <td>0.053951</td>\n",
       "    </tr>\n",
       "    <tr>\n",
       "      <th>2020-03-31</th>\n",
       "      <td>316.900</td>\n",
       "      <td>0.270862</td>\n",
       "      <td>509.9</td>\n",
       "      <td>440.100</td>\n",
       "      <td>1006.200</td>\n",
       "      <td>733.658656</td>\n",
       "      <td>0.527084</td>\n",
       "      <td>0.066426</td>\n",
       "      <td>0.035012</td>\n",
       "    </tr>\n",
       "    <tr>\n",
       "      <th>2021-03-31</th>\n",
       "      <td>84.300</td>\n",
       "      <td>0.258240</td>\n",
       "      <td>379.5</td>\n",
       "      <td>478.000</td>\n",
       "      <td>963.300</td>\n",
       "      <td>714.537408</td>\n",
       "      <td>-0.019873</td>\n",
       "      <td>0.067675</td>\n",
       "      <td>-0.001345</td>\n",
       "    </tr>\n",
       "  </tbody>\n",
       "</table>\n",
       "</div>"
      ],
      "text/plain": [
       "            Change in Working Capital  Effective Tax Rate  Capex  \\\n",
       "Date                                                               \n",
       "2012-03-31                    105.370            0.342629  118.6   \n",
       "2013-03-31                     57.480            0.278309  178.2   \n",
       "2014-03-31                    258.075            0.296478  223.6   \n",
       "2015-03-31                     98.328            0.278856  186.9   \n",
       "2016-03-31                    144.400            0.309449  183.5   \n",
       "2017-03-31                    -47.400            0.297221  236.7   \n",
       "2018-03-31                    174.700            0.102537  277.8   \n",
       "2019-03-31                    337.300            0.233664  370.5   \n",
       "2020-03-31                    316.900            0.270862  509.9   \n",
       "2021-03-31                     84.300            0.258240  379.5   \n",
       "\n",
       "            Depreciation      EBIT  EBIT (1-t)  Reinvestment Rate       ROC  \\\n",
       "Date                                                                          \n",
       "2012-03-31       101.943   728.988  479.215571           0.254639  0.180687   \n",
       "2013-03-31       116.629   744.143  537.041306           0.221679  0.132906   \n",
       "2014-03-31       146.607   873.738  614.693905           0.545097  0.124402   \n",
       "2015-03-31       170.900   890.800  642.395075           0.177971  0.119486   \n",
       "2016-03-31       198.600   975.500  673.632500           0.191944  0.118156   \n",
       "2017-03-31       206.100  1082.200  760.547434          -0.022089  0.128543   \n",
       "2018-03-31       219.800  1038.400  931.925579           0.249698  0.145243   \n",
       "2019-03-31       286.000   908.300  696.062989           0.605980  0.089031   \n",
       "2020-03-31       440.100  1006.200  733.658656           0.527084  0.066426   \n",
       "2021-03-31       478.000   963.300  714.537408          -0.019873  0.067675   \n",
       "\n",
       "                   g  \n",
       "Date                  \n",
       "2012-03-31  0.046010  \n",
       "2013-03-31  0.029462  \n",
       "2014-03-31  0.067811  \n",
       "2015-03-31  0.021265  \n",
       "2016-03-31  0.022679  \n",
       "2017-03-31 -0.002839  \n",
       "2018-03-31  0.036267  \n",
       "2019-03-31  0.053951  \n",
       "2020-03-31  0.035012  \n",
       "2021-03-31 -0.001345  "
      ]
     },
     "execution_count": 9,
     "metadata": {},
     "output_type": "execute_result"
    }
   ],
   "source": [
    "Chg_WC = CF['Change in Net Working Capital']\n",
    "eff_tax = IS['Effective Tax Rate %'].replace('NM' , 0)\n",
    "capex = abs(CF['Capital Expenditure'])\n",
    "depreciation = CF['Depreciation & Amort., Total']\n",
    "EBIT = IS['EBIT']\n",
    "after_tax_EBIT = EBIT * (1 - eff_tax)\n",
    "Reinv_rate = (capex - depreciation + Chg_WC) / (EBIT * (1 - eff_tax))\n",
    "roc = (IS['EBIT'] * (1 - eff_tax)) / (BS['Total Debt'] + BS['Total Equity'])\n",
    "g = Reinv_rate * roc\n",
    "fundamentals = pd.DataFrame(data = [Chg_WC, eff_tax, capex, depreciation, EBIT, after_tax_EBIT,\n",
    "                                        Reinv_rate, roc, g],\n",
    "                                index= [ 'Change in Working Capital',\n",
    "                                        'Effective Tax Rate', 'Capex', 'Depreciation', 'EBIT','EBIT (1-t)',\n",
    "                                        'Reinvestment Rate', 'ROC', 'g']).T\n",
    "\n",
    "fundamentals\n"
   ]
  },
  {
   "cell_type": "markdown",
   "metadata": {},
   "source": [
    "# Running the Simulation"
   ]
  },
  {
   "cell_type": "code",
   "execution_count": 106,
   "metadata": {},
   "outputs": [],
   "source": [
    "t_intervals = 10\n",
    "iterations = 100000"
   ]
  },
  {
   "cell_type": "code",
   "execution_count": 107,
   "metadata": {},
   "outputs": [],
   "source": [
    "values = []\n",
    "for i in range(iterations):\n",
    "    Expected_g = np.random.normal(np.mean(fundamentals['g']), np.std(fundamentals['g']), size = t_intervals)\n",
    "    WACC = 0.067109\n",
    "    simWACC = np.random.normal(WACC, 0.01, size= t_intervals)\n",
    "    Reinvestment_rate = np.random.normal(np.mean(fundamentals['Reinvestment Rate']), np.std(fundamentals['Reinvestment Rate']), size = t_intervals)\n",
    "    tax = np.random.normal(np.mean(fundamentals['Effective Tax Rate']), np.std(fundamentals['Effective Tax Rate']), size = t_intervals)\n",
    "    change_in_working_capital = np.random.normal(np.mean(fundamentals['Change in Working Capital']), np.std(fundamentals['Change in Working Capital']), size = t_intervals)\n",
    "\n",
    "    Terminal_g = np.random.normal(0.015, 0.01)\n",
    "#     Terminal_g = 0.015\n",
    "\n",
    "    EBIT_E = []\n",
    "    a = EBIT[-1]\n",
    "    for i in range(t_intervals):\n",
    "        a *= (1 + Expected_g[i])\n",
    "        EBIT_E.append(a)\n",
    "\n",
    "    after_tax_EBIT = (EBIT_E * (1 - tax))\n",
    "\n",
    "    Capex_Dep = (after_tax_EBIT * Reinvestment_rate) - change_in_working_capital\n",
    "\n",
    "    FCFF = after_tax_EBIT - change_in_working_capital - Capex_Dep\n",
    "\n",
    "    discount_factor = []\n",
    "    for i in range(t_intervals):\n",
    "        if i == 0:\n",
    "            i = 1 + simWACC[i]\n",
    "            discount_factor.append(i)\n",
    "        else:\n",
    "            i = (1 + simWACC[i]) ** i\n",
    "            discount_factor.append(i)\n",
    "\n",
    "    PV = FCFF / discount_factor\n",
    "    terminalValue = (FCFF[-1] * (1 + Terminal_g)) / (WACC - Terminal_g)\n",
    "    PV_tV = terminalValue / ((1 + WACC) ** t_intervals)\n",
    "    equityValue = PV.sum() + PV_tV - BS['Net Debt'][-1]\n",
    "    sharesOutstanding = IS['Weighted Avg. Diluted Shares Out.'][-1]\n",
    "    v = equityValue / sharesOutstanding\n",
    "    values.append(v)\n",
    "\n"
   ]
  },
  {
   "cell_type": "code",
   "execution_count": 108,
   "metadata": {},
   "outputs": [
    {
     "name": "stdout",
     "output_type": "stream",
     "text": [
      "[*********************100%***********************]  1 of 1 completed\n"
     ]
    },
    {
     "data": {
      "text/plain": [
       "30.92"
      ]
     },
     "execution_count": 108,
     "metadata": {},
     "output_type": "execute_result"
    }
   ],
   "source": [
    "tickers = ['SAP.TO']\n",
    "stock = round(yf.download(tickers, start = '2021-10-5')['Adj Close'][-1], 2)\n",
    "stock\n"
   ]
  },
  {
   "cell_type": "code",
   "execution_count": 109,
   "metadata": {},
   "outputs": [
    {
     "name": "stderr",
     "output_type": "stream",
     "text": [
      "<ipython-input-109-423ba4824b90>:8: UserWarning: FixedFormatter should only be used together with FixedLocator\n",
      "  sns.histplot(values, color='orange', label = 'Simulations').set_xticklabels(xlabels)\n"
     ]
    },
    {
     "data": {
      "image/png": "[encoded data removed]",
      "text/plain": [
       "<Figure size 720x720 with 1 Axes>"
      ]
     },
     "metadata": {},
     "output_type": "display_data"
    }
   ],
   "source": [
    "sns.set(rc={'figure.figsize':(10,10)})\n",
    "sns.set(font_scale = 1, font = 'Cambria')\n",
    "plt.axvline(x=stock, ymin=0,ymax=np.max(values), label = f'Current Price ${stock}', linewidth = 3, color = 'gray')\n",
    "plt.axvline(x=np.median(values), ymin=0,ymax=np.max(values), label = f'Median Value ${round(np.mean(values),2)}',\n",
    "            linewidth = 3, color = 'purple')\n",
    "\n",
    "xlabels = ['{:,.2f}'.format(x) + '$' for x in sns.histplot(values).get_xticks()]\n",
    "sns.histplot(values, color='orange', label = 'Simulations').set_xticklabels(xlabels)\n",
    "plt.legend()\n",
    "plt.show()"
   ]
  },
  {
   "cell_type": "code",
   "execution_count": 110,
   "metadata": {},
   "outputs": [
    {
     "name": "stderr",
     "output_type": "stream",
     "text": [
      "<ipython-input-110-cbedc97547f9>:2: UserWarning: FixedFormatter should only be used together with FixedLocator\n",
      "  sns.ecdfplot(x=values, color = 'orange', label = 'Simulation CDF', linewidth = 4).set_xticklabels(xlabels)\n"
     ]
    },
    {
     "data": {
      "image/png": "[encoded data removed]",
      "text/plain": [
       "<Figure size 720x720 with 1 Axes>"
      ]
     },
     "metadata": {},
     "output_type": "display_data"
    }
   ],
   "source": [
    "xlabels = ['{:,.2f}'.format(x) + '$' for x in sns.ecdfplot(x=values).get_xticks()]\n",
    "sns.ecdfplot(x=values, color = 'orange', label = 'Simulation CDF', linewidth = 4).set_xticklabels(xlabels)\n",
    "plt.axvline(x=stock, ymin=0,ymax=np.max(values), label = f'Current Price ${stock}', linewidth = 3, color = 'gray')\n",
    "plt.axvline(x=np.median(values), ymin=0,ymax=np.max(values), label = f'Median Value ${round(np.mean(values),2)}',\n",
    "            linewidth = 3, color = 'purple')\n",
    "plt.legend()\n",
    "plt.show()"
   ]
  },
  {
   "cell_type": "code",
   "execution_count": 111,
   "metadata": {},
   "outputs": [
    {
     "data": {
      "text/html": [
       "<div>\n",
       "<style scoped>\n",
       "    .dataframe tbody tr th:only-of-type {\n",
       "        vertical-align: middle;\n",
       "    }\n",
       "\n",
       "    .dataframe tbody tr th {\n",
       "        vertical-align: top;\n",
       "    }\n",
       "\n",
       "    .dataframe thead th {\n",
       "        text-align: right;\n",
       "    }\n",
       "</style>\n",
       "<table border=\"1\" class=\"dataframe\">\n",
       "  <thead>\n",
       "    <tr style=\"text-align: right;\">\n",
       "      <th></th>\n",
       "      <th>Values</th>\n",
       "    </tr>\n",
       "    <tr>\n",
       "      <th>Percentiles</th>\n",
       "      <th></th>\n",
       "    </tr>\n",
       "  </thead>\n",
       "  <tbody>\n",
       "    <tr>\n",
       "      <th>0%</th>\n",
       "      <td>-4.134792</td>\n",
       "    </tr>\n",
       "    <tr>\n",
       "      <th>10%</th>\n",
       "      <td>11.270662</td>\n",
       "    </tr>\n",
       "    <tr>\n",
       "      <th>20%</th>\n",
       "      <td>13.669804</td>\n",
       "    </tr>\n",
       "    <tr>\n",
       "      <th>30%</th>\n",
       "      <td>15.537012</td>\n",
       "    </tr>\n",
       "    <tr>\n",
       "      <th>40%</th>\n",
       "      <td>17.209615</td>\n",
       "    </tr>\n",
       "    <tr>\n",
       "      <th>50%</th>\n",
       "      <td>18.871689</td>\n",
       "    </tr>\n",
       "    <tr>\n",
       "      <th>60%</th>\n",
       "      <td>20.629211</td>\n",
       "    </tr>\n",
       "    <tr>\n",
       "      <th>70%</th>\n",
       "      <td>22.645232</td>\n",
       "    </tr>\n",
       "    <tr>\n",
       "      <th>80%</th>\n",
       "      <td>25.211668</td>\n",
       "    </tr>\n",
       "    <tr>\n",
       "      <th>90%</th>\n",
       "      <td>29.265102</td>\n",
       "    </tr>\n",
       "    <tr>\n",
       "      <th>100%</th>\n",
       "      <td>108.316388</td>\n",
       "    </tr>\n",
       "  </tbody>\n",
       "</table>\n",
       "</div>"
      ],
      "text/plain": [
       "                 Values\n",
       "Percentiles            \n",
       "0%            -4.134792\n",
       "10%           11.270662\n",
       "20%           13.669804\n",
       "30%           15.537012\n",
       "40%           17.209615\n",
       "50%           18.871689\n",
       "60%           20.629211\n",
       "70%           22.645232\n",
       "80%           25.211668\n",
       "90%           29.265102\n",
       "100%         108.316388"
      ]
     },
     "execution_count": 111,
     "metadata": {},
     "output_type": "execute_result"
    }
   ],
   "source": [
    "Percentile_table = pd.DataFrame(data = [np.percentile(values, 0), np.percentile(values, 10), np.percentile(values, 20),\n",
    "                                       np.percentile(values, 30), np.percentile(values, 40), np.percentile(values, 50),\n",
    "                                       np.percentile(values, 60), np.percentile(values, 70), np.percentile(values, 80),\n",
    "                                       np.percentile(values, 90), np.percentile(values, 100)],\n",
    "                               index = ['0%', '10%', '20%', '30%', '40%', '50%', '60%', '70%', '80%', '90%', '100%'],\n",
    "                               columns = ['Values'])\n",
    "\n",
    "Percentile_table.index.name = 'Percentiles'\n",
    "Percentile_table"
   ]
  },
  {
   "cell_type": "code",
   "execution_count": 112,
   "metadata": {},
   "outputs": [
    {
     "data": {
      "text/plain": [
       "18.871688893480083"
      ]
     },
     "execution_count": 112,
     "metadata": {},
     "output_type": "execute_result"
    }
   ],
   "source": [
    "np.median(values)"
   ]
  },
  {
   "cell_type": "code",
   "execution_count": 113,
   "metadata": {},
   "outputs": [
    {
     "data": {
      "text/html": [
       "<div>\n",
       "<style scoped>\n",
       "    .dataframe tbody tr th:only-of-type {\n",
       "        vertical-align: middle;\n",
       "    }\n",
       "\n",
       "    .dataframe tbody tr th {\n",
       "        vertical-align: top;\n",
       "    }\n",
       "\n",
       "    .dataframe thead th {\n",
       "        text-align: right;\n",
       "    }\n",
       "</style>\n",
       "<table border=\"1\" class=\"dataframe\">\n",
       "  <thead>\n",
       "    <tr style=\"text-align: right;\">\n",
       "      <th></th>\n",
       "      <th>Reinvestment Rate</th>\n",
       "      <th>Expected Growth</th>\n",
       "      <th>Tax</th>\n",
       "      <th>EBIT</th>\n",
       "      <th>EBIT(1-t)</th>\n",
       "      <th>Change in Working Capital</th>\n",
       "      <th>Capex - Depreciation</th>\n",
       "      <th>FCFF</th>\n",
       "      <th>Discount Factor</th>\n",
       "      <th>PV</th>\n",
       "    </tr>\n",
       "  </thead>\n",
       "  <tbody>\n",
       "    <tr>\n",
       "      <th>0</th>\n",
       "      <td>0.246948</td>\n",
       "      <td>0.019948</td>\n",
       "      <td>0.195022</td>\n",
       "      <td>982.516191</td>\n",
       "      <td>790.903842</td>\n",
       "      <td>295.141153</td>\n",
       "      <td>-99.828670</td>\n",
       "      <td>595.591359</td>\n",
       "      <td>1.070164</td>\n",
       "      <td>556.542327</td>\n",
       "    </tr>\n",
       "    <tr>\n",
       "      <th>1</th>\n",
       "      <td>0.617520</td>\n",
       "      <td>0.048757</td>\n",
       "      <td>0.255146</td>\n",
       "      <td>1030.420481</td>\n",
       "      <td>767.513161</td>\n",
       "      <td>166.438724</td>\n",
       "      <td>307.515691</td>\n",
       "      <td>293.558746</td>\n",
       "      <td>1.065238</td>\n",
       "      <td>275.580446</td>\n",
       "    </tr>\n",
       "    <tr>\n",
       "      <th>2</th>\n",
       "      <td>0.249811</td>\n",
       "      <td>0.042936</td>\n",
       "      <td>0.356139</td>\n",
       "      <td>1074.662293</td>\n",
       "      <td>691.932891</td>\n",
       "      <td>165.167255</td>\n",
       "      <td>7.685195</td>\n",
       "      <td>519.080440</td>\n",
       "      <td>1.142937</td>\n",
       "      <td>454.163637</td>\n",
       "    </tr>\n",
       "    <tr>\n",
       "      <th>3</th>\n",
       "      <td>0.396858</td>\n",
       "      <td>0.003976</td>\n",
       "      <td>0.155469</td>\n",
       "      <td>1078.935438</td>\n",
       "      <td>911.194695</td>\n",
       "      <td>42.392682</td>\n",
       "      <td>319.222216</td>\n",
       "      <td>549.579797</td>\n",
       "      <td>1.220999</td>\n",
       "      <td>450.106732</td>\n",
       "    </tr>\n",
       "    <tr>\n",
       "      <th>4</th>\n",
       "      <td>0.158368</td>\n",
       "      <td>0.023801</td>\n",
       "      <td>0.378356</td>\n",
       "      <td>1104.615197</td>\n",
       "      <td>686.676997</td>\n",
       "      <td>137.943368</td>\n",
       "      <td>-29.195912</td>\n",
       "      <td>577.929542</td>\n",
       "      <td>1.255844</td>\n",
       "      <td>460.192288</td>\n",
       "    </tr>\n",
       "    <tr>\n",
       "      <th>5</th>\n",
       "      <td>0.070676</td>\n",
       "      <td>0.011296</td>\n",
       "      <td>0.221132</td>\n",
       "      <td>1117.093199</td>\n",
       "      <td>870.068517</td>\n",
       "      <td>176.819802</td>\n",
       "      <td>-115.326485</td>\n",
       "      <td>808.575200</td>\n",
       "      <td>1.341722</td>\n",
       "      <td>602.639874</td>\n",
       "    </tr>\n",
       "    <tr>\n",
       "      <th>6</th>\n",
       "      <td>0.235975</td>\n",
       "      <td>0.052538</td>\n",
       "      <td>0.350249</td>\n",
       "      <td>1175.783466</td>\n",
       "      <td>763.966359</td>\n",
       "      <td>97.397734</td>\n",
       "      <td>82.879595</td>\n",
       "      <td>583.689030</td>\n",
       "      <td>1.558455</td>\n",
       "      <td>374.530583</td>\n",
       "    </tr>\n",
       "    <tr>\n",
       "      <th>7</th>\n",
       "      <td>0.305867</td>\n",
       "      <td>0.043484</td>\n",
       "      <td>0.183639</td>\n",
       "      <td>1226.911085</td>\n",
       "      <td>1001.601954</td>\n",
       "      <td>134.035171</td>\n",
       "      <td>172.321986</td>\n",
       "      <td>695.244797</td>\n",
       "      <td>1.548379</td>\n",
       "      <td>449.014607</td>\n",
       "    </tr>\n",
       "    <tr>\n",
       "      <th>8</th>\n",
       "      <td>0.021708</td>\n",
       "      <td>0.027333</td>\n",
       "      <td>0.346319</td>\n",
       "      <td>1260.446401</td>\n",
       "      <td>823.930355</td>\n",
       "      <td>218.977101</td>\n",
       "      <td>-201.091186</td>\n",
       "      <td>806.044439</td>\n",
       "      <td>1.703261</td>\n",
       "      <td>473.236090</td>\n",
       "    </tr>\n",
       "    <tr>\n",
       "      <th>9</th>\n",
       "      <td>0.359274</td>\n",
       "      <td>0.038942</td>\n",
       "      <td>0.255331</td>\n",
       "      <td>1309.530380</td>\n",
       "      <td>975.166855</td>\n",
       "      <td>282.545612</td>\n",
       "      <td>67.806912</td>\n",
       "      <td>624.814331</td>\n",
       "      <td>1.906128</td>\n",
       "      <td>327.792458</td>\n",
       "    </tr>\n",
       "  </tbody>\n",
       "</table>\n",
       "</div>"
      ],
      "text/plain": [
       "   Reinvestment Rate  Expected Growth       Tax         EBIT    EBIT(1-t)  \\\n",
       "0           0.246948         0.019948  0.195022   982.516191   790.903842   \n",
       "1           0.617520         0.048757  0.255146  1030.420481   767.513161   \n",
       "2           0.249811         0.042936  0.356139  1074.662293   691.932891   \n",
       "3           0.396858         0.003976  0.155469  1078.935438   911.194695   \n",
       "4           0.158368         0.023801  0.378356  1104.615197   686.676997   \n",
       "5           0.070676         0.011296  0.221132  1117.093199   870.068517   \n",
       "6           0.235975         0.052538  0.350249  1175.783466   763.966359   \n",
       "7           0.305867         0.043484  0.183639  1226.911085  1001.601954   \n",
       "8           0.021708         0.027333  0.346319  1260.446401   823.930355   \n",
       "9           0.359274         0.038942  0.255331  1309.530380   975.166855   \n",
       "\n",
       "   Change in Working Capital  Capex - Depreciation        FCFF  \\\n",
       "0                 295.141153            -99.828670  595.591359   \n",
       "1                 166.438724            307.515691  293.558746   \n",
       "2                 165.167255              7.685195  519.080440   \n",
       "3                  42.392682            319.222216  549.579797   \n",
       "4                 137.943368            -29.195912  577.929542   \n",
       "5                 176.819802           -115.326485  808.575200   \n",
       "6                  97.397734             82.879595  583.689030   \n",
       "7                 134.035171            172.321986  695.244797   \n",
       "8                 218.977101           -201.091186  806.044439   \n",
       "9                 282.545612             67.806912  624.814331   \n",
       "\n",
       "   Discount Factor          PV  \n",
       "0         1.070164  556.542327  \n",
       "1         1.065238  275.580446  \n",
       "2         1.142937  454.163637  \n",
       "3         1.220999  450.106732  \n",
       "4         1.255844  460.192288  \n",
       "5         1.341722  602.639874  \n",
       "6         1.558455  374.530583  \n",
       "7         1.548379  449.014607  \n",
       "8         1.703261  473.236090  \n",
       "9         1.906128  327.792458  "
      ]
     },
     "execution_count": 113,
     "metadata": {},
     "output_type": "execute_result"
    }
   ],
   "source": [
    "fcf_table = pd.DataFrame(data = [Reinvestment_rate, Expected_g, tax,\n",
    "                                 EBIT_E, after_tax_EBIT, change_in_working_capital,\n",
    "                                 Capex_Dep, FCFF, discount_factor,PV],\n",
    "                         index = ['Reinvestment Rate', 'Expected Growth',\n",
    "                                   'Tax','EBIT','EBIT(1-t)',\n",
    "                                  'Change in Working Capital', 'Capex - Depreciation',\n",
    "                                  'FCFF', 'Discount Factor','PV']).T\n",
    "fcf_table"
   ]
  },
  {
   "cell_type": "code",
   "execution_count": 114,
   "metadata": {},
   "outputs": [
    {
     "name": "stdout",
     "output_type": "stream",
     "text": [
      "[*********************100%***********************]  1 of 1 completed\n"
     ]
    },
    {
     "name": "stderr",
     "output_type": "stream",
     "text": [
      "C:\\Users\\nemat\\AppData\\Roaming\\Python\\Python38\\site-packages\\pypfopt\\expected_returns.py:156: RuntimeWarning: prices are not in a dataframe\n",
      "  warnings.warn(\"prices are not in a dataframe\", RuntimeWarning)\n"
     ]
    },
    {
     "data": {
      "text/html": [
       "<div>\n",
       "<style scoped>\n",
       "    .dataframe tbody tr th:only-of-type {\n",
       "        vertical-align: middle;\n",
       "    }\n",
       "\n",
       "    .dataframe tbody tr th {\n",
       "        vertical-align: top;\n",
       "    }\n",
       "\n",
       "    .dataframe thead th {\n",
       "        text-align: right;\n",
       "    }\n",
       "</style>\n",
       "<table border=\"1\" class=\"dataframe\">\n",
       "  <thead>\n",
       "    <tr style=\"text-align: right;\">\n",
       "      <th></th>\n",
       "      <th>SAP.TO</th>\n",
       "    </tr>\n",
       "  </thead>\n",
       "  <tbody>\n",
       "    <tr>\n",
       "      <th>Mean</th>\n",
       "      <td>-0.116180</td>\n",
       "    </tr>\n",
       "    <tr>\n",
       "      <th>StDev</th>\n",
       "      <td>0.013442</td>\n",
       "    </tr>\n",
       "  </tbody>\n",
       "</table>\n",
       "</div>"
      ],
      "text/plain": [
       "         SAP.TO\n",
       "Mean  -0.116180\n",
       "StDev  0.013442"
      ]
     },
     "execution_count": 114,
     "metadata": {},
     "output_type": "execute_result"
    }
   ],
   "source": [
    "s = yf.download(tickers, start = '2009-03-31')['Adj Close']\n",
    "returns = ppo.expected_returns.ema_historical_return(s.values)\n",
    "stdev = np.std(s.pct_change())\n",
    "stats = pd.DataFrame(data = [returns.values[0], stdev],\n",
    "             index = ['Mean', 'StDev'], columns = tickers)\n",
    "stats\n"
   ]
  },
  {
   "cell_type": "code",
   "execution_count": 115,
   "metadata": {},
   "outputs": [
    {
     "data": {
      "text/plain": [
       "Text(0, 0.5, 'Cumulative Returns')"
      ]
     },
     "execution_count": 115,
     "metadata": {},
     "output_type": "execute_result"
    },
    {
     "data": {
      "image/png": "[encoded data removed]",
      "text/plain": [
       "<Figure size 720x720 with 1 Axes>"
      ]
     },
     "metadata": {},
     "output_type": "display_data"
    }
   ],
   "source": [
    "plt.plot((1 + s.pct_change()).cumprod() - 1, color = 'y')\n",
    "plt.xlabel('Date')\n",
    "plt.ylabel('Cumulative Returns')"
   ]
  },
  {
   "cell_type": "code",
   "execution_count": null,
   "metadata": {},
   "outputs": [],
   "source": []
  }
 ],
 "metadata": {
  "kernelspec": {
   "display_name": "Python 3",
   "language": "python",
   "name": "python3"
  },
  "language_info": {
   "codemirror_mode": {
    "name": "ipython",
    "version": 3
   },
   "file_extension": ".py",
   "mimetype": "text/x-python",
   "name": "python",
   "nbconvert_exporter": "python",
   "pygments_lexer": "ipython3",
   "version": "3.8.8"
  }
 },
 "nbformat": 4,
 "nbformat_minor": 4
}
