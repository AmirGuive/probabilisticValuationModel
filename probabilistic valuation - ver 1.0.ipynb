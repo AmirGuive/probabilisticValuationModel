{
 "cells": [
  {
   "cell_type": "code",
   "execution_count": 1,
   "metadata": {},
   "outputs": [],
   "source": [
    "import pandas as pd\n",
    "import numpy as np\n",
    "import re\n",
    "import datetime\n",
    "import matplotlib.pyplot as plt\n",
    "import yfinance as yf\n",
    "import math\n",
    "import seaborn as sns\n",
    "from matplotlib import rc\n",
    "import matplotlib.ticker as ticker\n",
    "from dataclasses import dataclass\n",
    "from scipy.stats import norm\n",
    "from scipy import stats\n",
    "\n",
    "%matplotlib inline"
   ]
  },
  {
   "cell_type": "markdown",
   "metadata": {},
   "source": [
    "# Setting the Context\n",
    "## Probabilistic DCF valuation\n",
    "\n",
    "To calculate the Free Cash Flow to Firm we use the below equation:\n",
    "\n",
    "<img src=\"https://latex.codecogs.com/gif.latex?FCFF&space;=&space;EBIT&space;\\times&space;\\left&space;(&space;1&space;-&space;Effective\\;Tax\\;Rate\\right&space;)\\;&space;&plus;\\;&space;Working\\;Capital\\;Changes&space;&plus;\\;Capital\\;Expenditure&space;-&space;Depreciation\\;and\\;Amortization\\;\" title=\"FCFF = EBIT \\times \\left ( 1 - Effective\\;Tax\\;Rate\\right )\\; +\\; Working\\;Capital\\;Changes +\\;Capital\\;Expenditure - Depreciation\\;and\\;Amortization\\;\" />\n",
    "\n",
    "To forecast the FCFF we need to forecast each element in the above equiation, and for do it automatically we need to introduce proxies for each item:\n",
    "\n",
    "<img src=\"https://latex.codecogs.com/gif.latex?Reinvestment\\;Rate&space;=&space;\\;&space;\\frac{CapEx\\;-\\;&space;Dep.\\;and\\;Amort.\\;&plus;\\;Changes&space;\\;in\\;WC}{EBIT\\;&space;\\times\\;&space;(1\\;&space;-\\;&space;Eff.\\;&space;Tax\\;&space;Rate)}\" title=\"Reinvestment\\;Rate = \\; \\frac{CapEx\\;-\\; Dep.\\;and\\;Amort.\\;+\\;Changes \\;in\\;WC}{EBIT\\; \\times\\; (1\\; -\\; Eff.\\; Tax\\; Rate)}\" />\n",
    "\n",
    "\n",
    "<img src=\"https://latex.codecogs.com/gif.latex?Return\\;on\\;Capital&space;=&space;\\frac{EBIT\\;&space;\\times\\;&space;(1\\;&space;-\\;&space;Eff.\\;&space;Tax\\;&space;Rate)}{Total\\;Debt\\;&plus;\\;Total\\;Equity}\" title=\"Return\\;on\\;Capital = \\frac{EBIT\\; \\times\\; (1\\; -\\; Eff.\\; Tax\\; Rate)}{Total\\;Debt\\;+\\;Total\\;Equity}\" />\n",
    "\n",
    "and the internal growth rate will be : \n",
    "\n",
    "<img src=\"https://latex.codecogs.com/gif.latex?g\\;=\\;&space;Reinvestment\\;Rate\\;&space;\\times\\;&space;ROC\" title=\"g\\;=\\; Reinvestment\\;Rate\\; \\times\\; ROC\" />\n",
    "\n",
    "first we need to extract the historical data for each proxy and we will assume that the future rates will oscillate around the historical mean and standard deviation. \n",
    "\n",
    "\n",
    "### Resources\n",
    "https://www.youtube.com/watch?v=8gYT3Xgs6NE \\\n",
    "https://pages.stern.nyu.edu/~adamodar/ \\\n",
    "https://papers.ssrn.com/sol3/papers.cfm?abstract_id=3237778\n"
   ]
  },
  {
   "cell_type": "markdown",
   "metadata": {},
   "source": [
    "# Loading Data"
   ]
  },
  {
   "cell_type": "code",
   "execution_count": 37,
   "metadata": {
    "scrolled": false
   },
   "outputs": [
    {
     "name": "stdout",
     "output_type": "stream",
     "text": [
      "WARNING *** file size (245258) not 512 + multiple of sector size (512)\n",
      "WARNING *** file size (245258) not 512 + multiple of sector size (512)\n",
      "WARNING *** file size (245258) not 512 + multiple of sector size (512)\n"
     ]
    }
   ],
   "source": [
    "path = 'C:\\\\Users\\\\nemat\\\\Desktop\\\\Master Folder\\\\Buffet in the box contd\\\\auto_examples_jupyter\\\\The Clorox Company NYSE CLX Financials.xls'\n",
    "\n",
    "\n",
    "\n",
    "inc_df = pd.read_excel(path,\n",
    "                      sheet_name='Income Statement', skiprows=14, index_col=0)\n",
    "bs_df = pd.read_excel(path,\n",
    "                         sheet_name='Balance Sheet', skiprows=14,index_col=0)\n",
    "cf_df = pd.read_excel(path,\n",
    "                         sheet_name='Cash Flow', skiprows=14,index_col=0)"
   ]
  },
  {
   "cell_type": "markdown",
   "metadata": {},
   "source": [
    "# Data cleaning and calculation functions "
   ]
  },
  {
   "cell_type": "code",
   "execution_count": 38,
   "metadata": {},
   "outputs": [],
   "source": [
    "def StatementParser(df):\n",
    "    date={}\n",
    "    for i in range(len(df.columns)):\n",
    "        if type(df.columns[i]) is str:\n",
    "            match = re.search(r'\\w{3}-\\d{2}-\\d{4}', str(df.columns[i]))\n",
    "            date[str(df.columns[i])] = datetime.datetime.strptime(match.group(), '%b-%d-%Y').date()\n",
    "        else:\n",
    "            match = re.search(r'\\d{4}-\\d{2}-\\d{2}', str(df.columns[i]))\n",
    "            date[str(df.columns[i])] = datetime.datetime.strptime(match.group(), '%Y-%m-%d').date()\n",
    "    df.rename(columns = date, inplace = True)\n",
    "    df.replace(to_replace='-', value= 0 , inplace=True)\n",
    "    df.dropna(how = 'all', inplace = True)\n",
    "    df.drop('Currency', inplace = True)\n",
    "    \n",
    "    df = df.T\n",
    "    df['Date'] = df.index\n",
    "    df.set_index(df['Date'], inplace = True)\n",
    "    df.drop('Date', axis=1, inplace = True)\n",
    "    \n",
    "    col={}\n",
    "    for i in range(len(df.columns)):\n",
    "        col[str(df.columns[i])] = str(str(df.columns[i]).lstrip())\n",
    "    df.rename(columns = col, inplace = True)\n",
    "    \n",
    "    if df.index[-1].month != df.index[0].month:\n",
    "        df.drop(df.tail(1).index , inplace=True)\n",
    "    else:\n",
    "        pass\n",
    "\n",
    "   \n",
    "    return df"
   ]
  },
  {
   "cell_type": "code",
   "execution_count": 39,
   "metadata": {},
   "outputs": [],
   "source": [
    "IS = StatementParser(inc_df)"
   ]
  },
  {
   "cell_type": "code",
   "execution_count": 40,
   "metadata": {},
   "outputs": [],
   "source": [
    "BS = StatementParser(bs_df)"
   ]
  },
  {
   "cell_type": "code",
   "execution_count": 41,
   "metadata": {},
   "outputs": [],
   "source": [
    "CF = StatementParser(cf_df)"
   ]
  },
  {
   "cell_type": "markdown",
   "metadata": {},
   "source": [
    "# Looking at the Capital Structure"
   ]
  },
  {
   "cell_type": "code",
   "execution_count": 42,
   "metadata": {},
   "outputs": [
    {
     "data": {
      "image/png": "[encoded data removed]",
      "text/plain": [
       "<Figure size 576x288 with 1 Axes>"
      ]
     },
     "metadata": {},
     "output_type": "display_data"
    }
   ],
   "source": [
    "plt.figure(figsize=(8,4))\n",
    "rc('font', weight = 'bold')\n",
    "bars2 = BS['Total Debt']\n",
    "bars1 = BS['Total Equity']\n",
    "\n",
    "bars = np.add(bars1, bars2).tolist()\n",
    "\n",
    "r = range(len(bars1))\n",
    " \n",
    "names = BS.index.year\n",
    "barWidth = 0.75\n",
    "\n",
    "plt.bar(r, bars1, color='orange', edgecolor='white', width=barWidth, label = 'Total Equity')\n",
    "plt.bar(r, bars2, bottom=bars1, color='green', edgecolor='white', width=barWidth, label = 'Total Debt')\n",
    "\n",
    "plt.xticks(r, names, fontweight='bold')\n",
    "plt.title(\"Capital Structure\")\n",
    "plt.legend()\n",
    "plt.show()"
   ]
  },
  {
   "cell_type": "code",
   "execution_count": 46,
   "metadata": {},
   "outputs": [
    {
     "data": {
      "image/png": "[encoded data removed]",
      "text/plain": [
       "<Figure size 576x288 with 1 Axes>"
      ]
     },
     "metadata": {},
     "output_type": "display_data"
    }
   ],
   "source": [
    "plt.figure(figsize=(8,4))\n",
    "# Data\n",
    "# r = []\n",
    "raw_data = {'greenBars': BS['Total Debt'], 'orangeBars': BS['Total Equity']}\n",
    "df = pd.DataFrame(raw_data)\n",
    " \n",
    "# From raw value to percentage\n",
    "totals = [i+j for i,j in zip(df['greenBars'], df['orangeBars'])]\n",
    "greenBars = [i / j * 100 for i,j in zip(df['greenBars'], totals)]\n",
    "orangeBars = [i / j * 100 for i,j in zip(df['orangeBars'], totals)]\n",
    " \n",
    "# plot\n",
    "barWidth = 0.75\n",
    "# names = ()\n",
    "# Create orange Bars (Equity)\n",
    "plt.bar(r, orangeBars, color='orange', edgecolor='white', width=barWidth, label = 'Total Equity')\n",
    "# Create green Bars (Debt)\n",
    "plt.bar(r, greenBars, bottom=orangeBars, color='green', edgecolor='white', width=barWidth, label = 'Total Debt')\n",
    " \n",
    "# Custom x axis\n",
    "plt.xticks(r, names)\n",
    "plt.title('Capital Structure')\n",
    " \n",
    "# Show graphic\n",
    "plt.legend(loc = 'upper right')\n",
    "plt.show()\n"
   ]
  },
  {
   "cell_type": "markdown",
   "metadata": {},
   "source": [
    "# Calculating the Fundamentals"
   ]
  },
  {
   "cell_type": "code",
   "execution_count": 88,
   "metadata": {},
   "outputs": [
    {
     "data": {
      "text/html": [
       "<div>\n",
       "<style scoped>\n",
       "    .dataframe tbody tr th:only-of-type {\n",
       "        vertical-align: middle;\n",
       "    }\n",
       "\n",
       "    .dataframe tbody tr th {\n",
       "        vertical-align: top;\n",
       "    }\n",
       "\n",
       "    .dataframe thead th {\n",
       "        text-align: right;\n",
       "    }\n",
       "</style>\n",
       "<table border=\"1\" class=\"dataframe\">\n",
       "  <thead>\n",
       "    <tr style=\"text-align: right;\">\n",
       "      <th></th>\n",
       "      <th>Change in Working Capital</th>\n",
       "      <th>Effective Tax Rate</th>\n",
       "      <th>Capex</th>\n",
       "      <th>Depreciation</th>\n",
       "      <th>EBIT</th>\n",
       "      <th>EBIT (1-t)</th>\n",
       "      <th>Reinvestment Rate</th>\n",
       "      <th>ROC</th>\n",
       "      <th>g</th>\n",
       "    </tr>\n",
       "    <tr>\n",
       "      <th>Date</th>\n",
       "      <th></th>\n",
       "      <th></th>\n",
       "      <th></th>\n",
       "      <th></th>\n",
       "      <th></th>\n",
       "      <th></th>\n",
       "      <th></th>\n",
       "      <th></th>\n",
       "      <th></th>\n",
       "    </tr>\n",
       "  </thead>\n",
       "  <tbody>\n",
       "    <tr>\n",
       "      <th>2016-06-30</th>\n",
       "      <td>12.0</td>\n",
       "      <td>0.340793</td>\n",
       "      <td>172.0</td>\n",
       "      <td>149.0</td>\n",
       "      <td>1051.0</td>\n",
       "      <td>692.826557</td>\n",
       "      <td>0.050518</td>\n",
       "      <td>0.265553</td>\n",
       "      <td>0.013415</td>\n",
       "    </tr>\n",
       "    <tr>\n",
       "      <th>2017-06-30</th>\n",
       "      <td>42.0</td>\n",
       "      <td>0.319457</td>\n",
       "      <td>231.0</td>\n",
       "      <td>148.0</td>\n",
       "      <td>1109.0</td>\n",
       "      <td>754.722187</td>\n",
       "      <td>0.165624</td>\n",
       "      <td>0.275748</td>\n",
       "      <td>0.045670</td>\n",
       "    </tr>\n",
       "    <tr>\n",
       "      <th>2018-06-30</th>\n",
       "      <td>88.0</td>\n",
       "      <td>0.219165</td>\n",
       "      <td>194.0</td>\n",
       "      <td>155.0</td>\n",
       "      <td>1125.0</td>\n",
       "      <td>878.439375</td>\n",
       "      <td>0.144575</td>\n",
       "      <td>0.273742</td>\n",
       "      <td>0.039576</td>\n",
       "    </tr>\n",
       "    <tr>\n",
       "      <th>2019-06-30</th>\n",
       "      <td>-29.0</td>\n",
       "      <td>0.199218</td>\n",
       "      <td>206.0</td>\n",
       "      <td>172.0</td>\n",
       "      <td>1104.0</td>\n",
       "      <td>884.063328</td>\n",
       "      <td>0.005656</td>\n",
       "      <td>0.272691</td>\n",
       "      <td>0.001542</td>\n",
       "    </tr>\n",
       "    <tr>\n",
       "      <th>2020-06-30</th>\n",
       "      <td>-353.0</td>\n",
       "      <td>0.207594</td>\n",
       "      <td>254.0</td>\n",
       "      <td>175.0</td>\n",
       "      <td>1251.0</td>\n",
       "      <td>991.299906</td>\n",
       "      <td>-0.276405</td>\n",
       "      <td>0.245129</td>\n",
       "      <td>-0.067755</td>\n",
       "    </tr>\n",
       "    <tr>\n",
       "      <th>2021-06-30</th>\n",
       "      <td>43.0</td>\n",
       "      <td>0.201111</td>\n",
       "      <td>331.0</td>\n",
       "      <td>205.0</td>\n",
       "      <td>1218.0</td>\n",
       "      <td>973.046802</td>\n",
       "      <td>0.173681</td>\n",
       "      <td>0.257556</td>\n",
       "      <td>0.044733</td>\n",
       "    </tr>\n",
       "  </tbody>\n",
       "</table>\n",
       "</div>"
      ],
      "text/plain": [
       "            Change in Working Capital  Effective Tax Rate  Capex  \\\n",
       "Date                                                               \n",
       "2016-06-30                       12.0            0.340793  172.0   \n",
       "2017-06-30                       42.0            0.319457  231.0   \n",
       "2018-06-30                       88.0            0.219165  194.0   \n",
       "2019-06-30                      -29.0            0.199218  206.0   \n",
       "2020-06-30                     -353.0            0.207594  254.0   \n",
       "2021-06-30                       43.0            0.201111  331.0   \n",
       "\n",
       "            Depreciation    EBIT  EBIT (1-t)  Reinvestment Rate       ROC  \\\n",
       "Date                                                                        \n",
       "2016-06-30         149.0  1051.0  692.826557           0.050518  0.265553   \n",
       "2017-06-30         148.0  1109.0  754.722187           0.165624  0.275748   \n",
       "2018-06-30         155.0  1125.0  878.439375           0.144575  0.273742   \n",
       "2019-06-30         172.0  1104.0  884.063328           0.005656  0.272691   \n",
       "2020-06-30         175.0  1251.0  991.299906          -0.276405  0.245129   \n",
       "2021-06-30         205.0  1218.0  973.046802           0.173681  0.257556   \n",
       "\n",
       "                   g  \n",
       "Date                  \n",
       "2016-06-30  0.013415  \n",
       "2017-06-30  0.045670  \n",
       "2018-06-30  0.039576  \n",
       "2019-06-30  0.001542  \n",
       "2020-06-30 -0.067755  \n",
       "2021-06-30  0.044733  "
      ]
     },
     "execution_count": 88,
     "metadata": {},
     "output_type": "execute_result"
    }
   ],
   "source": [
    "Chg_WC = CF['Change in Net Working Capital']\n",
    "eff_tax = IS['Effective Tax Rate %'].replace('NM' , 0)\n",
    "capex = abs(CF['Capital Expenditure'])\n",
    "depreciation = CF['Depreciation & Amort., Total']\n",
    "EBIT = IS['EBIT']\n",
    "after_tax_EBIT = EBIT * (1 - eff_tax)\n",
    "Reinv_rate = (capex - depreciation + Chg_WC) / (EBIT * (1 - eff_tax))\n",
    "roc = (IS['EBIT'] * (1 - eff_tax)) / (BS['Total Debt'] + BS['Total Equity'])\n",
    "g = Reinv_rate * roc\n",
    "fundamentals = pd.DataFrame(data = [Chg_WC, eff_tax, capex, depreciation, EBIT, after_tax_EBIT,\n",
    "                                        Reinv_rate, roc, g],\n",
    "                                index= [ 'Change in Working Capital',\n",
    "                                        'Effective Tax Rate', 'Capex', 'Depreciation', 'EBIT','EBIT (1-t)',\n",
    "                                        'Reinvestment Rate', 'ROC', 'g']).T\n",
    "\n",
    "fundamentals\n"
   ]
  },
  {
   "cell_type": "markdown",
   "metadata": {},
   "source": [
    "# Running the Simulation"
   ]
  },
  {
   "cell_type": "code",
   "execution_count": 89,
   "metadata": {},
   "outputs": [],
   "source": [
    "t_intervals = 10\n",
    "iterations = 100000"
   ]
  },
  {
   "cell_type": "code",
   "execution_count": 99,
   "metadata": {},
   "outputs": [],
   "source": [
    "values = []\n",
    "for i in range(iterations):\n",
    "    Expected_g = np.random.normal(np.mean(fundamentals['g']), np.std(fundamentals['g']), size = t_intervals)\n",
    "    WACC = 0.043986\n",
    "    simWACC = np.random.normal(WACC, 0.01246298, size= t_intervals)\n",
    "    Reinvestment_rate = np.random.normal(np.mean(fundamentals['Reinvestment Rate']), np.std(fundamentals['Reinvestment Rate']), size = t_intervals)\n",
    "    tax = np.random.normal(np.mean(fundamentals['Effective Tax Rate']), np.std(fundamentals['Effective Tax Rate']), size = t_intervals)\n",
    "    change_in_working_capital = np.random.normal(np.mean(fundamentals['Change in Working Capital']), np.std(fundamentals['Change in Working Capital']), size = t_intervals)\n",
    "\n",
    "    Terminal_g = 0.015\n",
    "\n",
    "\n",
    "    EBIT_E = []\n",
    "    a = EBIT[-1]\n",
    "    for i in range(t_intervals):\n",
    "        a *= (1 + Expected_g[i])\n",
    "        EBIT_E.append(a)\n",
    "\n",
    "    after_tax_EBIT = (EBIT_E * (1 - tax))\n",
    "\n",
    "    Capex_Dep = (after_tax_EBIT * Reinvestment_rate) - change_in_working_capital\n",
    "\n",
    "    FCFF = after_tax_EBIT - change_in_working_capital - Capex_Dep\n",
    "\n",
    "    discount_factor = []\n",
    "    for i in range(t_intervals):\n",
    "        if i == 0:\n",
    "            i = 1 + simWACC[i]\n",
    "            discount_factor.append(i)\n",
    "        else:\n",
    "            i = (1 + simWACC[i]) ** i\n",
    "            discount_factor.append(i)\n",
    "\n",
    "    PV = FCFF / discount_factor\n",
    "    terminalValue = (FCFF[-1] * (1 + Terminal_g)) / (WACC - Terminal_g)\n",
    "    PV_tV = terminalValue / ((1 + WACC) ** t_intervals)\n",
    "    equityValue = PV.sum() + PV_tV - BS['Net Debt'][-1]\n",
    "    sharesOutstanding = IS['Weighted Avg. Diluted Shares Out.'][-1]\n",
    "    v = equityValue / sharesOutstanding\n",
    "    values.append(v)\n",
    "\n"
   ]
  },
  {
   "cell_type": "code",
   "execution_count": 141,
   "metadata": {},
   "outputs": [
    {
     "name": "stdout",
     "output_type": "stream",
     "text": [
      "[*********************100%***********************]  1 of 1 completed\n"
     ]
    },
    {
     "data": {
      "text/plain": [
       "165.21"
      ]
     },
     "execution_count": 141,
     "metadata": {},
     "output_type": "execute_result"
    }
   ],
   "source": [
    "stock = round(yf.download(['CLX'], start = '2021-10-5')['Adj Close'][-1], 2)\n",
    "stock\n"
   ]
  },
  {
   "cell_type": "code",
   "execution_count": 142,
   "metadata": {},
   "outputs": [
    {
     "name": "stderr",
     "output_type": "stream",
     "text": [
      "<ipython-input-142-b628f09d162c>:5: UserWarning: FixedFormatter should only be used together with FixedLocator\n",
      "  sns.histplot(values, color='orange', label = 'Simulations').set_xticklabels(xlabels)\n"
     ]
    },
    {
     "data": {
      "image/png": "[encoded data removed]",
      "text/plain": [
       "<Figure size 720x720 with 1 Axes>"
      ]
     },
     "metadata": {},
     "output_type": "display_data"
    }
   ],
   "source": [
    "sns.set(rc={'figure.figsize':(10,10)})\n",
    "sns.set(font_scale = 1, font = 'Cambria')\n",
    "plt.axvline(x=stock, ymin=0,ymax=np.max(values), label = f'Current Price ${stock}', linewidth = 3, color = 'gray')\n",
    "xlabels = ['{:,.2f}'.format(x) + '$' for x in sns.histplot(values).get_xticks()]\n",
    "sns.histplot(values, color='orange', label = 'Simulations').set_xticklabels(xlabels)\n",
    "plt.legend()\n",
    "plt.show()"
   ]
  },
  {
   "cell_type": "code",
   "execution_count": 143,
   "metadata": {},
   "outputs": [
    {
     "name": "stderr",
     "output_type": "stream",
     "text": [
      "<ipython-input-143-e145b4dd8226>:2: UserWarning: FixedFormatter should only be used together with FixedLocator\n",
      "  sns.ecdfplot(x=values, color = 'purple', label = 'Simulation CDF', linewidth = 2).set_xticklabels(xlabels)\n"
     ]
    },
    {
     "data": {
      "image/png": "[encoded data removed]",
      "text/plain": [
       "<Figure size 720x720 with 1 Axes>"
      ]
     },
     "metadata": {},
     "output_type": "display_data"
    }
   ],
   "source": [
    "xlabels = ['{:,.2f}'.format(x) + '$' for x in sns.ecdfplot(x=values).get_xticks()]\n",
    "sns.ecdfplot(x=values, color = 'purple', label = 'Simulation CDF', linewidth = 2).set_xticklabels(xlabels)\n",
    "plt.axvline(x=stock, ymin=0,ymax=1, label = 'Current price', linewidth = 3)\n",
    "plt.legend()\n",
    "plt.show()"
   ]
  },
  {
   "cell_type": "code",
   "execution_count": 144,
   "metadata": {},
   "outputs": [
    {
     "data": {
      "text/html": [
       "<div>\n",
       "<style scoped>\n",
       "    .dataframe tbody tr th:only-of-type {\n",
       "        vertical-align: middle;\n",
       "    }\n",
       "\n",
       "    .dataframe tbody tr th {\n",
       "        vertical-align: top;\n",
       "    }\n",
       "\n",
       "    .dataframe thead th {\n",
       "        text-align: right;\n",
       "    }\n",
       "</style>\n",
       "<table border=\"1\" class=\"dataframe\">\n",
       "  <thead>\n",
       "    <tr style=\"text-align: right;\">\n",
       "      <th></th>\n",
       "      <th>Values</th>\n",
       "    </tr>\n",
       "    <tr>\n",
       "      <th>Percentiles</th>\n",
       "      <th></th>\n",
       "    </tr>\n",
       "  </thead>\n",
       "  <tbody>\n",
       "    <tr>\n",
       "      <th>0%</th>\n",
       "      <td>75.708827</td>\n",
       "    </tr>\n",
       "    <tr>\n",
       "      <th>10%</th>\n",
       "      <td>164.097551</td>\n",
       "    </tr>\n",
       "    <tr>\n",
       "      <th>20%</th>\n",
       "      <td>179.898136</td>\n",
       "    </tr>\n",
       "    <tr>\n",
       "      <th>30%</th>\n",
       "      <td>191.767558</td>\n",
       "    </tr>\n",
       "    <tr>\n",
       "      <th>40%</th>\n",
       "      <td>202.529466</td>\n",
       "    </tr>\n",
       "    <tr>\n",
       "      <th>50%</th>\n",
       "      <td>213.121119</td>\n",
       "    </tr>\n",
       "    <tr>\n",
       "      <th>60%</th>\n",
       "      <td>224.074771</td>\n",
       "    </tr>\n",
       "    <tr>\n",
       "      <th>70%</th>\n",
       "      <td>236.209004</td>\n",
       "    </tr>\n",
       "    <tr>\n",
       "      <th>80%</th>\n",
       "      <td>250.727890</td>\n",
       "    </tr>\n",
       "    <tr>\n",
       "      <th>90%</th>\n",
       "      <td>272.279368</td>\n",
       "    </tr>\n",
       "    <tr>\n",
       "      <th>100%</th>\n",
       "      <td>439.137396</td>\n",
       "    </tr>\n",
       "  </tbody>\n",
       "</table>\n",
       "</div>"
      ],
      "text/plain": [
       "                 Values\n",
       "Percentiles            \n",
       "0%            75.708827\n",
       "10%          164.097551\n",
       "20%          179.898136\n",
       "30%          191.767558\n",
       "40%          202.529466\n",
       "50%          213.121119\n",
       "60%          224.074771\n",
       "70%          236.209004\n",
       "80%          250.727890\n",
       "90%          272.279368\n",
       "100%         439.137396"
      ]
     },
     "execution_count": 144,
     "metadata": {},
     "output_type": "execute_result"
    }
   ],
   "source": [
    "Percentile_table = pd.DataFrame(data = [np.percentile(values, 0), np.percentile(values, 10), np.percentile(values, 20),\n",
    "                                       np.percentile(values, 30), np.percentile(values, 40), np.percentile(values, 50),\n",
    "                                       np.percentile(values, 60), np.percentile(values, 70), np.percentile(values, 80),\n",
    "                                       np.percentile(values, 90), np.percentile(values, 100)],\n",
    "                               index = ['0%', '10%', '20%', '30%', '40%', '50%', '60%', '70%', '80%', '90%', '100%'],\n",
    "                               columns = ['Values'])\n",
    "\n",
    "Percentile_table.index.name = 'Percentiles'\n",
    "Percentile_table"
   ]
  },
  {
   "cell_type": "code",
   "execution_count": 137,
   "metadata": {},
   "outputs": [
    {
     "data": {
      "text/plain": [
       "216.2151536414487"
      ]
     },
     "execution_count": 137,
     "metadata": {},
     "output_type": "execute_result"
    }
   ],
   "source": [
    "np.mean(values)"
   ]
  },
  {
   "cell_type": "code",
   "execution_count": 103,
   "metadata": {},
   "outputs": [
    {
     "data": {
      "text/html": [
       "<div>\n",
       "<style scoped>\n",
       "    .dataframe tbody tr th:only-of-type {\n",
       "        vertical-align: middle;\n",
       "    }\n",
       "\n",
       "    .dataframe tbody tr th {\n",
       "        vertical-align: top;\n",
       "    }\n",
       "\n",
       "    .dataframe thead th {\n",
       "        text-align: right;\n",
       "    }\n",
       "</style>\n",
       "<table border=\"1\" class=\"dataframe\">\n",
       "  <thead>\n",
       "    <tr style=\"text-align: right;\">\n",
       "      <th></th>\n",
       "      <th>Reinvestment Rate</th>\n",
       "      <th>Expected Growth</th>\n",
       "      <th>Tax</th>\n",
       "      <th>EBIT</th>\n",
       "      <th>EBIT(1-t)</th>\n",
       "      <th>Change in Working Capital</th>\n",
       "      <th>Capex - Depreciation</th>\n",
       "      <th>FCFF</th>\n",
       "      <th>Discount Factor</th>\n",
       "      <th>PV</th>\n",
       "    </tr>\n",
       "  </thead>\n",
       "  <tbody>\n",
       "    <tr>\n",
       "      <th>0</th>\n",
       "      <td>-0.006755</td>\n",
       "      <td>-0.048967</td>\n",
       "      <td>0.244968</td>\n",
       "      <td>1158.358034</td>\n",
       "      <td>874.597401</td>\n",
       "      <td>45.317912</td>\n",
       "      <td>-51.225691</td>\n",
       "      <td>880.505179</td>\n",
       "      <td>1.033505</td>\n",
       "      <td>851.959972</td>\n",
       "    </tr>\n",
       "    <tr>\n",
       "      <th>1</th>\n",
       "      <td>-0.075828</td>\n",
       "      <td>0.003406</td>\n",
       "      <td>0.360098</td>\n",
       "      <td>1162.303023</td>\n",
       "      <td>743.759783</td>\n",
       "      <td>-131.311240</td>\n",
       "      <td>74.913589</td>\n",
       "      <td>800.157434</td>\n",
       "      <td>1.041538</td>\n",
       "      <td>768.246147</td>\n",
       "    </tr>\n",
       "    <tr>\n",
       "      <th>2</th>\n",
       "      <td>-0.131780</td>\n",
       "      <td>0.009409</td>\n",
       "      <td>0.230313</td>\n",
       "      <td>1173.239230</td>\n",
       "      <td>903.027477</td>\n",
       "      <td>-102.051180</td>\n",
       "      <td>-16.950194</td>\n",
       "      <td>1022.028851</td>\n",
       "      <td>1.073624</td>\n",
       "      <td>951.942998</td>\n",
       "    </tr>\n",
       "    <tr>\n",
       "      <th>3</th>\n",
       "      <td>-0.284223</td>\n",
       "      <td>0.072243</td>\n",
       "      <td>0.214593</td>\n",
       "      <td>1257.997058</td>\n",
       "      <td>988.039235</td>\n",
       "      <td>28.789319</td>\n",
       "      <td>-309.612432</td>\n",
       "      <td>1268.862348</td>\n",
       "      <td>1.100732</td>\n",
       "      <td>1152.744242</td>\n",
       "    </tr>\n",
       "    <tr>\n",
       "      <th>4</th>\n",
       "      <td>0.064387</td>\n",
       "      <td>0.025361</td>\n",
       "      <td>0.326284</td>\n",
       "      <td>1289.901113</td>\n",
       "      <td>869.026774</td>\n",
       "      <td>6.954110</td>\n",
       "      <td>48.999842</td>\n",
       "      <td>813.072823</td>\n",
       "      <td>1.239189</td>\n",
       "      <td>656.133090</td>\n",
       "    </tr>\n",
       "    <tr>\n",
       "      <th>5</th>\n",
       "      <td>-0.006831</td>\n",
       "      <td>0.060678</td>\n",
       "      <td>0.337648</td>\n",
       "      <td>1368.169241</td>\n",
       "      <td>906.208960</td>\n",
       "      <td>-280.785770</td>\n",
       "      <td>274.595026</td>\n",
       "      <td>912.399705</td>\n",
       "      <td>1.243623</td>\n",
       "      <td>733.662550</td>\n",
       "    </tr>\n",
       "    <tr>\n",
       "      <th>6</th>\n",
       "      <td>0.024333</td>\n",
       "      <td>0.070671</td>\n",
       "      <td>0.244925</td>\n",
       "      <td>1464.859214</td>\n",
       "      <td>1106.078091</td>\n",
       "      <td>37.960809</td>\n",
       "      <td>-11.046669</td>\n",
       "      <td>1079.163950</td>\n",
       "      <td>1.204743</td>\n",
       "      <td>895.762730</td>\n",
       "    </tr>\n",
       "    <tr>\n",
       "      <th>7</th>\n",
       "      <td>0.065873</td>\n",
       "      <td>-0.036886</td>\n",
       "      <td>0.264691</td>\n",
       "      <td>1410.826718</td>\n",
       "      <td>1037.393352</td>\n",
       "      <td>-298.538973</td>\n",
       "      <td>366.875145</td>\n",
       "      <td>969.057180</td>\n",
       "      <td>1.361418</td>\n",
       "      <td>711.800009</td>\n",
       "    </tr>\n",
       "    <tr>\n",
       "      <th>8</th>\n",
       "      <td>0.153758</td>\n",
       "      <td>0.008241</td>\n",
       "      <td>0.213185</td>\n",
       "      <td>1422.453873</td>\n",
       "      <td>1119.208285</td>\n",
       "      <td>-82.169815</td>\n",
       "      <td>254.257144</td>\n",
       "      <td>947.120956</td>\n",
       "      <td>1.332899</td>\n",
       "      <td>710.572149</td>\n",
       "    </tr>\n",
       "    <tr>\n",
       "      <th>9</th>\n",
       "      <td>-0.067147</td>\n",
       "      <td>-0.052878</td>\n",
       "      <td>0.262619</td>\n",
       "      <td>1347.238005</td>\n",
       "      <td>993.428037</td>\n",
       "      <td>148.469034</td>\n",
       "      <td>-215.174714</td>\n",
       "      <td>1060.133718</td>\n",
       "      <td>1.598954</td>\n",
       "      <td>663.017062</td>\n",
       "    </tr>\n",
       "  </tbody>\n",
       "</table>\n",
       "</div>"
      ],
      "text/plain": [
       "   Reinvestment Rate  Expected Growth       Tax         EBIT    EBIT(1-t)  \\\n",
       "0          -0.006755        -0.048967  0.244968  1158.358034   874.597401   \n",
       "1          -0.075828         0.003406  0.360098  1162.303023   743.759783   \n",
       "2          -0.131780         0.009409  0.230313  1173.239230   903.027477   \n",
       "3          -0.284223         0.072243  0.214593  1257.997058   988.039235   \n",
       "4           0.064387         0.025361  0.326284  1289.901113   869.026774   \n",
       "5          -0.006831         0.060678  0.337648  1368.169241   906.208960   \n",
       "6           0.024333         0.070671  0.244925  1464.859214  1106.078091   \n",
       "7           0.065873        -0.036886  0.264691  1410.826718  1037.393352   \n",
       "8           0.153758         0.008241  0.213185  1422.453873  1119.208285   \n",
       "9          -0.067147        -0.052878  0.262619  1347.238005   993.428037   \n",
       "\n",
       "   Change in Working Capital  Capex - Depreciation         FCFF  \\\n",
       "0                  45.317912            -51.225691   880.505179   \n",
       "1                -131.311240             74.913589   800.157434   \n",
       "2                -102.051180            -16.950194  1022.028851   \n",
       "3                  28.789319           -309.612432  1268.862348   \n",
       "4                   6.954110             48.999842   813.072823   \n",
       "5                -280.785770            274.595026   912.399705   \n",
       "6                  37.960809            -11.046669  1079.163950   \n",
       "7                -298.538973            366.875145   969.057180   \n",
       "8                 -82.169815            254.257144   947.120956   \n",
       "9                 148.469034           -215.174714  1060.133718   \n",
       "\n",
       "   Discount Factor           PV  \n",
       "0         1.033505   851.959972  \n",
       "1         1.041538   768.246147  \n",
       "2         1.073624   951.942998  \n",
       "3         1.100732  1152.744242  \n",
       "4         1.239189   656.133090  \n",
       "5         1.243623   733.662550  \n",
       "6         1.204743   895.762730  \n",
       "7         1.361418   711.800009  \n",
       "8         1.332899   710.572149  \n",
       "9         1.598954   663.017062  "
      ]
     },
     "execution_count": 103,
     "metadata": {},
     "output_type": "execute_result"
    }
   ],
   "source": [
    "fcf_table = pd.DataFrame(data = [Reinvestment_rate, Expected_g, tax,\n",
    "                                 EBIT_E, after_tax_EBIT, change_in_working_capital,\n",
    "                                 Capex_Dep, FCFF, discount_factor,PV],\n",
    "                         index = ['Reinvestment Rate', 'Expected Growth',\n",
    "                                   'Tax','EBIT','EBIT(1-t)',\n",
    "                                  'Change in Working Capital', 'Capex - Depreciation',\n",
    "                                  'FCFF', 'Discount Factor','PV']).T\n",
    "fcf_table"
   ]
  },
  {
   "cell_type": "code",
   "execution_count": 97,
   "metadata": {},
   "outputs": [
    {
     "name": "stdout",
     "output_type": "stream",
     "text": [
      "[*********************100%***********************]  1 of 1 completed\n"
     ]
    },
    {
     "data": {
      "text/html": [
       "<div>\n",
       "<style scoped>\n",
       "    .dataframe tbody tr th:only-of-type {\n",
       "        vertical-align: middle;\n",
       "    }\n",
       "\n",
       "    .dataframe tbody tr th {\n",
       "        vertical-align: top;\n",
       "    }\n",
       "\n",
       "    .dataframe thead th {\n",
       "        text-align: right;\n",
       "    }\n",
       "</style>\n",
       "<table border=\"1\" class=\"dataframe\">\n",
       "  <thead>\n",
       "    <tr style=\"text-align: right;\">\n",
       "      <th></th>\n",
       "      <th>CLX</th>\n",
       "    </tr>\n",
       "  </thead>\n",
       "  <tbody>\n",
       "    <tr>\n",
       "      <th>Mean</th>\n",
       "      <td>0.141073</td>\n",
       "    </tr>\n",
       "    <tr>\n",
       "      <th>StDev</th>\n",
       "      <td>0.193154</td>\n",
       "    </tr>\n",
       "  </tbody>\n",
       "</table>\n",
       "</div>"
      ],
      "text/plain": [
       "            CLX\n",
       "Mean   0.141073\n",
       "StDev  0.193154"
      ]
     },
     "execution_count": 97,
     "metadata": {},
     "output_type": "execute_result"
    }
   ],
   "source": [
    "tickers = ['CLX']\n",
    "s = yf.download(tickers, start = '2009-03-31')\n",
    "s = s['Adj Close']\n",
    "returns = s.pct_change()\n",
    "stats = pd.DataFrame(data = [returns.mean() * 252, returns.std() * (252 ** 0.5)],\n",
    "             index = ['Mean', 'StDev'], columns= tickers)\n",
    "stats"
   ]
  },
  {
   "cell_type": "code",
   "execution_count": 98,
   "metadata": {},
   "outputs": [
    {
     "data": {
      "text/plain": [
       "<matplotlib.legend.Legend at 0x1acb4ae47f0>"
      ]
     },
     "execution_count": 98,
     "metadata": {},
     "output_type": "execute_result"
    },
    {
     "data": {
      "image/png": "[encoded data removed]",
      "text/plain": [
       "<Figure size 720x720 with 1 Axes>"
      ]
     },
     "metadata": {},
     "output_type": "display_data"
    }
   ],
   "source": [
    "plt.plot(s, label = 'CLX')\n",
    "plt.legend()"
   ]
  },
  {
   "cell_type": "code",
   "execution_count": null,
   "metadata": {},
   "outputs": [],
   "source": []
  },
  {
   "cell_type": "code",
   "execution_count": null,
   "metadata": {},
   "outputs": [],
   "source": []
  }
 ],
 "metadata": {
  "kernelspec": {
   "display_name": "Python 3",
   "language": "python",
   "name": "python3"
  },
  "language_info": {
   "codemirror_mode": {
    "name": "ipython",
    "version": 3
   },
   "file_extension": ".py",
   "mimetype": "text/x-python",
   "name": "python",
   "nbconvert_exporter": "python",
   "pygments_lexer": "ipython3",
   "version": "3.8.8"
  }
 },
 "nbformat": 4,
 "nbformat_minor": 4
}
